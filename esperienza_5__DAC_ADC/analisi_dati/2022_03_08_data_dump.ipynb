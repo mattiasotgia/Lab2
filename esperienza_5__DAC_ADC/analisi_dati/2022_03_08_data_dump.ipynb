{
 "cells": [
  {
   "cell_type": "markdown",
   "id": "4e11c4e5-8521-4388-b167-ff747c1f3c28",
   "metadata": {},
   "source": [
    "# Esperienza 5 ADC/DAC \n",
    "\n"
   ]
  },
  {
   "cell_type": "markdown",
   "id": "5eb1016a-8b0b-487c-8a75-cfb001785630",
   "metadata": {},
   "source": [
    "Mettiamo delle resistenze di valore ideale (in realtà sono leggermente più piccole, ma rimangono sembre tutte uguali $R$ e $2R$) \\begin{align}\n",
    "R &= 270 \\text{ k}\\Omega\\\\\n",
    "2R &= 560 \\text{ k}\\Omega\n",
    "\\end{align}\n",
    "\n",
    "## Circuito non amplificato\n",
    "\n",
    "L'impedenza di uscita totale del nostro circuito è $R = 270$ k$\\Omega$, che però diventa confrontabile con il valore di impedenza di ingresso dell'oscilloscopio (circa $1\\text{ M}\\Omega$), che quindi si *mangia* 1/4 della tensione di ingresso, perchè abbiamo che di fatto l'impedenza in ingresso è confrontabile con l'impedenza in uscita del nostro circuito.\n",
    "\n",
    "\n"
   ]
  },
  {
   "cell_type": "markdown",
   "id": "8ec8079d-2876-4bca-a03c-3908f4a82034",
   "metadata": {},
   "source": [
    "## Circuito amplificato\n",
    "\n",
    "Aggiungendo l'amplificatore, che ha una impedenza di uscita praticamente infinita (maggiore di quella dell'oscilloscopio), otteniamo che questo problema non si pone più, e quindi con un guadagno pari a $G=2$, il valore massimo raggiungibile corrisponde effettivamente a $15/16$ di 10 V, ovvero 9.3 V, che è il valore che otteniamo.  "
   ]
  },
  {
   "cell_type": "code",
   "execution_count": null,
   "id": "50a98573-1a89-415b-82ae-7185643a0cc2",
   "metadata": {},
   "outputs": [],
   "source": []
  }
 ],
 "metadata": {
  "kernelspec": {
   "display_name": "Python 3",
   "language": "python",
   "name": "python3"
  },
  "language_info": {
   "codemirror_mode": {
    "name": "ipython",
    "version": 3
   },
   "file_extension": ".py",
   "mimetype": "text/x-python",
   "name": "python",
   "nbconvert_exporter": "python",
   "pygments_lexer": "ipython3",
   "version": "3.9.6"
  }
 },
 "nbformat": 4,
 "nbformat_minor": 5
}
