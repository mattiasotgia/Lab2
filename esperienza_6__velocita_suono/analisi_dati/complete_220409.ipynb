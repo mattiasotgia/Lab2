{
 "cells": [
  {
   "cell_type": "code",
   "execution_count": 9,
   "id": "941b7f4a-0be8-4c09-9cda-4c22eef4f559",
   "metadata": {
    "tags": []
   },
   "outputs": [],
   "source": [
    "import ROOT\n",
    "import numpy as np\n",
    "\n",
    "import matplotlib.pyplot as plt\n",
    "import os\n",
    "\n",
    "import uproot"
   ]
  },
  {
   "cell_type": "code",
   "execution_count": 10,
   "id": "5267ae10-be6c-4623-9df4-8f79048589a0",
   "metadata": {},
   "outputs": [
    {
     "data": {
      "text/plain": [
       "['red', 'cyan', 'green', 'black']"
      ]
     },
     "execution_count": 10,
     "metadata": {},
     "output_type": "execute_result"
    },
    {
     "name": "stdout",
     "output_type": "stream",
     "text": [
      "TFile**\t\t../misc/data_stream.root\t\n",
      " TFile*\t\t../misc/data_stream.root\t\n",
      "  KEY: TGraphErrors\t;4\t [current cycle]\n",
      "  KEY: TGraphErrors\t;3\t;Delay [ms];Distance [m] [backup cycle]\n",
      "  KEY: TGraphErrors\t;2\t;Delay [ms];Distance + bias [m] [backup cycle]\n",
      "  KEY: TGraphErrors\t;1\t [backup cycle]\n",
      "  KEY: TF1\tf_RISE;1\t[0]+[1]*x\n",
      "  KEY: TF1\tf_FALL;1\t[0]+[1]*x\n",
      "  KEY: TCanvas\tc1;1\t\n",
      "  KEY: TF1\tu_ag_f;1\t[0]+x*[1]\n",
      "  KEY: TF1\td_ag_f;1\t[0]+x*[1]\n"
     ]
    },
    {
     "name": "stderr",
     "output_type": "stream",
     "text": [
      "Warning in <TCanvas::Constructor>: Deleting canvas with same name: c1\n"
     ]
    }
   ],
   "source": [
    "%jsroot on\n",
    "\n",
    "c1 = ROOT.TCanvas(\"c1\", \"\", 600, 1600);\n",
    "\n",
    "c1.Divide(2,1)\n",
    "\n",
    "file = ROOT.TFile('../misc/data_stream.root')\n",
    "\n",
    "file.ls()\n",
    "\n",
    "\n",
    "file.Get('f_RISE').GetParameter(1), file.Get('f_RISE').GetParError(1)\n",
    "\n",
    "file.Get('f_FALL').GetParameter(1), file.Get('f_FALL').GetParError(1)\n",
    "\n",
    "['red', 'cyan', 'green', 'black']"
   ]
  },
  {
   "cell_type": "code",
   "execution_count": 11,
   "id": "7f9b137c-0815-47c7-8aab-dc460c9f9020",
   "metadata": {},
   "outputs": [
    {
     "name": "stdout",
     "output_type": "stream",
     "text": [
      "LAB2: sound_speed (initial bias: 3.44(0)e+02 m/s): 348.36(53) m/s\n"
     ]
    },
    {
     "data": {
      "image/png": "[encoded data removed]",
      "text/plain": [
       "<Figure size 504x288 with 1 Axes>"
      ]
     },
     "metadata": {
      "needs_background": "light"
     },
     "output_type": "display_data"
    }
   ],
   "source": [
    "from uncertainties import ufloat\n",
    "from matplotlib.patches import Rectangle\n",
    "\n",
    "sspeed_bias = 344\n",
    "\n",
    "fig, ax = plt.subplots(figsize=(7,4))\n",
    "\n",
    "xposition = file.Get('d_ag_f').GetParameter(1)*1000-sspeed_bias + 2\n",
    "ax.grid()\n",
    "ax.set_yticklabels([])\n",
    "ax.tick_params(direction='in', bottom=True, top=True, left=True, right=True)\n",
    "ax.set_xlabel('deviation from theory  $v_s - {:}$ [m/s]'.format(sspeed_bias))\n",
    "\n",
    "var = ['f_FALL', 'f_RISE', 'd_ag_f', 'u_ag_f']\n",
    "annotations = ['falling@digital',\n",
    "               'rising@digital',\n",
    "               'falling@analogic',\n",
    "               'rising@analogic']\n",
    "\n",
    "colors = ['dodgerblue', 'red', 'gold', 'green']\n",
    "\n",
    "def get_bestvalue(v1, v2, ev1, ev2):\n",
    "    return (v1/ev1**2 + v2/ev2**2)/(1/ev1**2 + 1/ev2**2)\n",
    "\n",
    "def get_bestvalueerr(ev1, ev2):\n",
    "    return np.sqrt(1/(1/ev1**2 + 1/ev2**2))\n",
    "\n",
    "def get_statsignificance(v1, v2, ev1, ev2):\n",
    "    return (v1 - v2)/np.sqrt(ev1**2 + ev2**2)\n",
    "\n",
    "def plot_result(var='', annotation='', color='', index=0, axtmp=None):\n",
    "    value = ufloat(file.Get(var).GetParameter(1), file.Get(var).GetParError(1))*1000\n",
    "    sspeed_diff = file.Get(var).GetParameter(1)*1000-sspeed_bias\n",
    "    sspeed_err=file.Get(var).GetParError(1)*1000\n",
    "    axtmp.errorbar(x=sspeed_diff, y=index+1, xerr=sspeed_err, fmt='o', color=color, label=var)\n",
    "    axtmp.annotate((annotation + ', {:.2}$\\sigma$ \\nmeas. ${:.2uSL}$ m/s').format(get_statsignificance(sspeed_diff+sspeed_bias, sspeed_bias, sspeed_err, 0),value), \n",
    "                   (xposition, 1+index-0.05), annotation_clip=False)\n",
    "\n",
    "sspeed_bestval = get_bestvalue(get_bestvalue(file.Get('f_RISE').GetParameter(1), file.Get('f_FALL').GetParameter(1), \n",
    "                                             file.Get('f_RISE').GetParError(1), file.Get('f_FALL').GetParError(1)),\n",
    "                               get_bestvalue(file.Get('d_ag_f').GetParameter(1), file.Get('u_ag_f').GetParameter(1), \n",
    "                                             file.Get('d_ag_f').GetParError(1), file.Get('u_ag_f').GetParError(1)),\n",
    "                               get_bestvalueerr(file.Get('f_RISE').GetParError(1), file.Get('f_FALL').GetParError(1)),\n",
    "                               get_bestvalueerr(file.Get('d_ag_f').GetParError(1), file.Get('u_ag_f').GetParError(1)))*1000-sspeed_bias\n",
    "sspeed_bestvalerr = get_bestvalueerr(get_bestvalueerr(file.Get('f_RISE').GetParError(1), file.Get('f_FALL').GetParError(1)),\n",
    "                                     get_bestvalueerr(file.Get('d_ag_f').GetParError(1), file.Get('u_ag_f').GetParError(1)))*1000\n",
    "\n",
    "\n",
    "for i in range(len(var)):\n",
    "    plot_result(var=var[i], annotation=annotations[i], color=colors[i], index=i, axtmp=ax)\n",
    "  \n",
    "value = ufloat(sspeed_bestval+sspeed_bias, sspeed_bestvalerr)\n",
    "ax.errorbar(x=sspeed_bestval, y=len(var)+1, xerr=sspeed_bestvalerr, fmt='o', color='orchid', label='best')\n",
    "ax.annotate(('best-value, {:.2}$\\sigma$ \\nmeas. ${:.2uSL}$ m/s').format(get_statsignificance(sspeed_bestval+sspeed_bias, sspeed_bias, sspeed_bestvalerr, 0),value), \n",
    "            (xposition, 1+4-0.05), annotation_clip=False)\n",
    "\n",
    "ax.add_patch(Rectangle((sspeed_bestval-sspeed_bestvalerr, 0), sspeed_bestvalerr*2,len(var)+1+1+1, color='purple', alpha=0.25))\n",
    "\n",
    "ax.set_ybound(0.5,len(var)+1+1)\n",
    "fig.subplots_adjust(right=0.65)\n",
    "\n",
    "print('LAB2: sound_speed (initial bias: {:.1uS} m/s): {:.2uS} m/s'.format(ufloat(sspeed_bias, 0), ufloat(sspeed_bestval+sspeed_bias, sspeed_bestvalerr)))\n",
    "\n",
    "plt.show()\n",
    "\n",
    "fig.savefig('../fig/fullscale.pdf')"
   ]
  },
  {
   "cell_type": "code",
   "execution_count": null,
   "id": "30e57fe2-065d-4c5d-a4a0-9f3726c74dbc",
   "metadata": {},
   "outputs": [],
   "source": []
  },
  {
   "cell_type": "code",
   "execution_count": null,
   "id": "3c145403-974d-40d9-b77c-990b94e8287c",
   "metadata": {},
   "outputs": [],
   "source": []
  },
  {
   "cell_type": "code",
   "execution_count": null,
   "id": "18c83dee-c43a-41d4-8adb-da65fe5a0e2e",
   "metadata": {},
   "outputs": [],
   "source": []
  }
 ],
 "metadata": {
  "kernelspec": {
   "display_name": "Python 3",
   "language": "python",
   "name": "python3"
  },
  "language_info": {
   "codemirror_mode": {
    "name": "ipython",
    "version": 3
   },
   "file_extension": ".py",
   "mimetype": "text/x-python",
   "name": "python",
   "nbconvert_exporter": "python",
   "pygments_lexer": "ipython3",
   "version": "3.9.6"
  }
 },
 "nbformat": 4,
 "nbformat_minor": 5
}
