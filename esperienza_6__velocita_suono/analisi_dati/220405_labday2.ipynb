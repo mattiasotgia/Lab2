{
 "cells": [
  {
   "cell_type": "markdown",
   "id": "99d5ee57-016f-4992-8a88-ddbdd28c62c9",
   "metadata": {},
   "source": [
    "# Analisi dati diretta lab d2 (5 apr 2022)\n",
    "\n",
    "Automazione con arduino."
   ]
  },
  {
   "cell_type": "code",
   "execution_count": null,
   "id": "9ea3c938-f50c-49f6-8108-ca0dfaff4c0f",
   "metadata": {},
   "outputs": [],
   "source": []
  }
 ],
 "metadata": {
  "kernelspec": {
   "display_name": "ROOT C++",
   "language": "c++",
   "name": "root"
  },
  "language_info": {
   "codemirror_mode": "text/x-c++src",
   "file_extension": ".C",
   "mimetype": " text/x-c++src",
   "name": "c++"
  }
 },
 "nbformat": 4,
 "nbformat_minor": 5
}
