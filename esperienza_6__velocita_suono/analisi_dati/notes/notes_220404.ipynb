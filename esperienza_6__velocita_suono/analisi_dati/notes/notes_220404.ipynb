{
 "cells": [
  {
   "cell_type": "markdown",
   "id": "1f11781a-f629-4cde-ab19-d987cb38cd98",
   "metadata": {},
   "source": [
    "# Alcune osservazioni sull'incompatibilità dei risultati on RAISING e FALLING\n",
    "\n",
    "Si osservano differenti risultati nei casi di RAISING e FALLING, ovvero se si considera l'onda quadra nel fronte di salita o discesa, in quanto entrambi le variazioni causano un'onda che si propaga. \n",
    "\n",
    "Il problema più generale in realtà è che data un onda, se si considera il singolo fronte di salita (per l'onda dal trasduttore), allora si ottiene che l'ampiezza di questa onda quadra può variare e quindi darci differenti risultati. "
   ]
  },
  {
   "cell_type": "markdown",
   "id": "b2b489c3-727a-4efc-a8f5-80630c86eed3",
   "metadata": {},
   "source": []
  }
 ],
 "metadata": {
  "kernelspec": {
   "display_name": "ROOT C++",
   "language": "c++",
   "name": "root"
  },
  "language_info": {
   "codemirror_mode": "text/x-c++src",
   "file_extension": ".C",
   "mimetype": " text/x-c++src",
   "name": "c++"
  }
 },
 "nbformat": 4,
 "nbformat_minor": 5
}
