{
 "cells": [
  {
   "cell_type": "markdown",
   "id": "25a95a6c-ea79-4291-ae7f-700ed9e5e919",
   "metadata": {},
   "source": [
    "# Come vogliamo procedere?\n",
    "\n",
    "Vogliamo misurare la velocità del suono, quindi ci potrebbe servire chiederci se vogliamo effettuare una misura diretta. Se si come? Forse conviene effettuare una misura indiretta da cui poi si può tirare fuori una misura inferita della velocità $v_s$. "
   ]
  },
  {
   "cell_type": "markdown",
   "id": "1087ed40-8a3a-46e0-be9f-82682a0e48b6",
   "metadata": {},
   "source": [
    "## Problemi che si possono porre"
   ]
  },
  {
   "cell_type": "markdown",
   "id": "0b356350-d9bd-4fff-9700-6054adc7ec3b",
   "metadata": {},
   "source": [
    "Idea: genero un suono e attendo quando arriva. Questo prevede che però posso agire solo su certe distanze e certe lunghezze"
   ]
  },
  {
   "cell_type": "markdown",
   "id": "42b04d60-00d0-47fa-b6d0-a5902929b60e",
   "metadata": {},
   "source": [
    "Problema: come distinguere davvero quando il suono che emetto è quello giusto? o se invece è un rumore non necessariamente quello che mi aspetto di osservare..."
   ]
  },
  {
   "cell_type": "markdown",
   "id": "3de7cd36-f377-43c2-931e-f87f46184dc7",
   "metadata": {},
   "source": []
  }
 ],
 "metadata": {
  "kernelspec": {
   "display_name": "ROOT C++",
   "language": "c++",
   "name": "root"
  },
  "language_info": {
   "codemirror_mode": "text/x-c++src",
   "file_extension": ".C",
   "mimetype": " text/x-c++src",
   "name": "c++"
  },
  "toc-autonumbering": true
 },
 "nbformat": 4,
 "nbformat_minor": 5
}
