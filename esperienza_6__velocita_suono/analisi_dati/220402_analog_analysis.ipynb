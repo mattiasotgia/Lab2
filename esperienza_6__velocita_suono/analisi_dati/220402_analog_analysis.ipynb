{
 "cells": [
  {
   "cell_type": "markdown",
   "id": "be6cfad6-dbcc-4d0b-980c-af614018f777",
   "metadata": {},
   "source": [
    "# Analisi dati indiretta: 02 aprile 2022"
   ]
  },
  {
   "cell_type": "code",
   "execution_count": 1,
   "id": "490a2bc2-2b70-4968-9c69-a323089c4716",
   "metadata": {},
   "outputs": [],
   "source": [
    "%jsroot on\n",
    "\n",
    "gInterpreter->AddIncludePath(\"/usr/local/include\");\n",
    "gSystem->Load(\"/usr/local/lib/libErrorAnalysis\");\n",
    "gSystem->Load(\"/usr/local/lib/libLabTools\");\n",
    "gSystem->Load(\"/usr/local/lib/libBode\");"
   ]
  },
  {
   "cell_type": "code",
   "execution_count": 2,
   "id": "7dbbde43-55b4-45db-bdb4-3c961ddad56b",
   "metadata": {},
   "outputs": [],
   "source": [
    "#include<fstream>"
   ]
  },
  {
   "cell_type": "code",
   "execution_count": 3,
   "id": "91ad3077-b1a5-4ee5-8de6-6672db551dd4",
   "metadata": {},
   "outputs": [],
   "source": [
    "#include<LabPlot.h> "
   ]
  },
  {
   "cell_type": "code",
   "execution_count": 4,
   "id": "49e6d951-bf8e-471c-a698-dc44a3e879f4",
   "metadata": {},
   "outputs": [
    {
     "name": "stdout",
     "output_type": "stream",
     "text": [
      "\u001b[34;1mApplying ATLAS style settings\u001b[0m\n"
     ]
    }
   ],
   "source": [
    "set_atlas_style(30);"
   ]
  },
  {
   "cell_type": "code",
   "execution_count": 5,
   "id": "e4432fd9-d604-4660-a4a3-78f47038a01d",
   "metadata": {},
   "outputs": [],
   "source": [
    "double get_TRangeErr(double range1, double errPercent = 0.0016, int partition = 10){\n",
    "    return range1 * errPercent * partition / sqrt(3);\n",
    "}"
   ]
  },
  {
   "cell_type": "code",
   "execution_count": 6,
   "id": "7ca8330e-5ec7-4b07-ba0f-69067c25baa4",
   "metadata": {},
   "outputs": [],
   "source": [
    "#include<LabTools.h> "
   ]
  },
  {
   "cell_type": "code",
   "execution_count": 7,
   "id": "9f3c2ff1-e648-4ceb-94db-0dfbfa3562e4",
   "metadata": {},
   "outputs": [],
   "source": [
    "#include<ErrorAnalysis.h>"
   ]
  },
  {
   "cell_type": "code",
   "execution_count": 8,
   "id": "8c969ddd-bad0-4efd-a232-414cdaa49199",
   "metadata": {},
   "outputs": [],
   "source": [
    "#include<LabStat.h>"
   ]
  },
  {
   "cell_type": "markdown",
   "id": "c8531dac-3377-4798-a76a-6a0fb9b192c5",
   "metadata": {},
   "source": [
    "## Prova: invertire fit funzione\n",
    "Scambiamo gli assi per otttenere la funzione di d(t), da permetterci di ottenere il valore della valocità direttamente dal fit"
   ]
  },
  {
   "cell_type": "code",
   "execution_count": 9,
   "id": "ee06f925-0b66-4d61-9bb8-2210f872f7a9",
   "metadata": {},
   "outputs": [],
   "source": [
    "TCanvas *c1 = new TCanvas(\"\", \"\", 800, 700);\n",
    "\n",
    "std::ifstream uedge_analog_data(\"../dati/uedge_analog_data_220329.txt\");\n",
    "std::ifstream dedge_analog_data(\"../dati/dedge_analog_data_220329.txt\");\n",
    "\n",
    "\n",
    "Double_t offset_tmp = 0.19; // offset di misura (initial guess)\n",
    "Double_t diametro_spk = 0.05985; // 2*offset verticale (da aggiungere in quadratura)\n",
    "\n",
    "TGraphErrors *u_ag_g = new TGraphErrors();\n",
    "TGraphErrors *d_ag_g = new TGraphErrors();\n",
    "\n",
    "u_ag_g->GetXaxis()->CenterTitle();\n",
    "u_ag_g->GetYaxis()->CenterTitle();\n",
    "\n",
    "Double_t d, t, fst;\n",
    "\n",
    "TLegend *l = new TLegend(0.2, 0.65, 0.5, 0.9);\n",
    "l->SetFillColorAlpha(0, 0.75);\n",
    "l->SetTextSize(25);\n",
    "l->SetHeader(\"#bf{Analogic} #it{}\");\n",
    "\n",
    "for(int i=0; uedge_analog_data>>d>>t>>fst; i++){\n",
    "    \n",
    "    u_ag_g->SetPoint(i, t, d);\n",
    "    u_ag_g->SetPointError(i, get_TRangeErr(fst), 0.001/std::sqrt(3));\n",
    "}\n",
    "\n",
    "for(int i=0; dedge_analog_data>>d>>t>>fst; i++){\n",
    "    \n",
    "    d_ag_g->SetPoint(i, t, d);\n",
    "    d_ag_g->SetPointError(i, get_TRangeErr(fst), 0.001/std::sqrt(3));\n",
    "}"
   ]
  },
  {
   "cell_type": "markdown",
   "id": "42a0031f-bfd9-4a73-9db8-138476ec78a6",
   "metadata": {},
   "source": [
    "### Fit: quale funzione vogliamo utilizzare?\n",
    "\n",
    "Abbiamo effettuato il fit considerando una funzione lineare, per cui (ipotizzando che ricevitore ed emettitore siano in asse abbiamo che $d = v_s\\cdot t.$ Dobbiamo però considerare la possibilità di un errore sistematico di offset sulla distanza $d$, quindi rendendo la funzione di fit simile a $d=d_\\text{offset}+v_st.$\n",
    "\n",
    "Però abbiamo che potremmo non avere in perfetto asse i due strumenti e quindi la necessità di avere un offset laterale, per cui la distanza che in realtà compie è $d_\\text{true}=\\sqrt{d_\\text{meas} + \\delta_\\text{lat}}.$ Così facendo abbiamo che però non funziona il fit per il secondo set di dati, mentre con il primo abbiamo un miglior rendimento (Prob($\\chi^2$) > 70%). Inoltre in tale modo i rusultati non vengono compatibili.\n",
    "\n",
    "Funzione con approssimazione ad ordime maggiore sarebbe quindi $$d=\\sqrt{v_s^2t^2 + \\text{(offset)}^2 -\\delta^2 + 2\\text{(offset)}v_st},$$ oppure $$t = \\frac{1}{v_s}\\sqrt{d^2+\\delta^2}+\\frac{\\text{offset}}{v_s}.$$"
   ]
  },
  {
   "cell_type": "code",
   "execution_count": 10,
   "id": "9b69e4d5-a554-4c6c-928f-72a9cc9efac0",
   "metadata": {},
   "outputs": [
    {
     "name": "stdout",
     "output_type": "stream",
     "text": [
      " FCN=20.2347 FROM MIGRAD    STATUS=CONVERGED     104 CALLS         105 TOTAL\n",
      "                     EDM=3.05131e-10    STRATEGY= 1      ERROR MATRIX ACCURATE \n",
      "  EXT PARAMETER                                   STEP         FIRST   \n",
      "  NO.   NAME      VALUE            ERROR          SIZE      DERIVATIVE \n",
      "   1  p0           1.46711e-01   4.27685e-04   4.20768e-07  -2.59038e-02\n",
      "   2  p1           3.48060e-01   6.53763e-04   6.43194e-07   2.18128e-02\n",
      " FCN=1.20962 FROM MIGRAD    STATUS=CONVERGED      97 CALLS          98 TOTAL\n",
      "                     EDM=3.95209e-07    STRATEGY= 1      ERROR MATRIX ACCURATE \n",
      "  EXT PARAMETER                                   STEP         FIRST   \n",
      "  NO.   NAME      VALUE            ERROR          SIZE      DERIVATIVE \n",
      "   1  p0           1.27950e-01   9.14933e-04   2.15051e-07   1.99570e+00\n",
      "   2  p1           3.49868e-01   1.03245e-03   2.42674e-07   2.31629e+00\n"
     ]
    }
   ],
   "source": [
    "\n",
    "\n",
    "TF1 *u_ag_f = new TF1(\"u_ag_f\", \"[0]+x*[1]\");\n",
    "\n",
    "u_ag_f->SetParameters(offset_tmp, 340);\n",
    "u_ag_f->SetParameter(2, std::pow(diametro_spk/2, 2));\n",
    "\n",
    "TF1 *d_ag_f = new TF1(\"d_ag_f\", \"[0]+x*[1]\");\n",
    "\n",
    "d_ag_f->SetParameters(offset_tmp, 340);\n",
    "//d_ag_f->SetParameter(2, std::pow(diametro_spk/2, 2));\n",
    "\n",
    "u_ag_g->SetTitle(\";Delay [ms];Distance [m]\");\n",
    "\n",
    "u_ag_g->Draw(\"ap\");\n",
    "u_ag_g->Fit(\"u_ag_f\");\n",
    "l->AddEntry(u_ag_g, \"Rising edge triggered\", \"LPE\");\n",
    "\n",
    "d_ag_g->SetMarkerColor(kRed);\n",
    "d_ag_g->SetLineColor(kRed);\n",
    "d_ag_f->SetLineColor(kRed);\n",
    "\n",
    "d_ag_g->Draw(\"p\");\n",
    "d_ag_g->Fit(\"d_ag_f\");\n",
    "l->AddEntry(d_ag_g, \"Falling edge triggered\", \"LPE\");\n",
    "\n",
    "l->Draw();"
   ]
  },
  {
   "cell_type": "code",
   "execution_count": 11,
   "id": "3172ad44-e5fc-432c-bccf-9f91feade867",
   "metadata": {},
   "outputs": [
    {
     "data": {
      "image/png": "[encoded data removed]",
      "text/plain": [
       "<IPython.core.display.Image object>"
      ]
     },
     "metadata": {},
     "output_type": "display_data"
    },
    {
     "name": "stdout",
     "output_type": "stream",
     "text": [
      "\n",
      "** CHI2 / NDF ( PROB. ) 20.2347 / 10 ( 0.0271097 )\n",
      "\n",
      "\n",
      "** CHI2 / NDF ( PROB. ) 1.20962 / 5 ( 0.943951 )\n",
      "\n",
      "COMPATIBILE:\tsignificativita' statistica  1.479416 σ\n"
     ]
    }
   ],
   "source": [
    "%jsroot off\n",
    "c1->Draw();\n",
    "\n",
    "logs::print_stat(u_ag_f);\n",
    "logs::print_stat(d_ag_f);\n",
    "\n",
    "std::cout << LabStat::compatible_nocorr(u_ag_f->GetParameter(1), u_ag_f->GetParError(1), \n",
    "                                        d_ag_f->GetParameter(1), d_ag_f->GetParError(1)) << \":\\t\"\n",
    "    << LabStat::get_statsign(u_ag_f->GetParameter(1), u_ag_f->GetParError(1), \n",
    "                             d_ag_f->GetParameter(1), d_ag_f->GetParError(1)) << \"\\n\";"
   ]
  },
  {
   "cell_type": "code",
   "execution_count": 12,
   "id": "8a12f3b2-150f-4a6a-9967-7abcf4043402",
   "metadata": {},
   "outputs": [
    {
     "name": "stderr",
     "output_type": "stream",
     "text": [
      "Info in <TCanvas::Print>: pdf file ../fig/analog_plot_a220402.pdf has been created\n"
     ]
    }
   ],
   "source": [
    "c1->Print(\"../fig/analog_plot_a220402.pdf\")"
   ]
  },
  {
   "cell_type": "code",
   "execution_count": 13,
   "id": "788a9467-672e-440f-bf7a-c5d56908ee9c",
   "metadata": {},
   "outputs": [
    {
     "name": "stdout",
     "output_type": "stream",
     "text": [
      "348.577 +- 0.55234 m/s \n"
     ]
    }
   ],
   "source": [
    "\n",
    "Double_t inverse_sspeed_ag[1] = {LabStat::getbestvalue(u_ag_f->GetParameter(1), u_ag_f->GetParError(1), \n",
    "                                                       d_ag_f->GetParameter(1), d_ag_f->GetParError(1))};\n",
    "Double_t inverse_sspeed_ag_err[1] = {LabStat::getbestvalueerr(u_ag_f->GetParError(1), d_ag_f->GetParError(1))};\n",
    "\n",
    "std::cout << inverse_sspeed_ag[0]*1000 << \" +- \" << inverse_sspeed_ag_err[0]*1000 << \" m/s \\n\";"
   ]
  },
  {
   "cell_type": "code",
   "execution_count": null,
   "id": "080fb629-47b3-4d51-a6c5-67e1a59b5911",
   "metadata": {},
   "outputs": [],
   "source": []
  },
  {
   "cell_type": "code",
   "execution_count": null,
   "id": "ef96f1bf-562d-4486-8339-eb93bec74c4b",
   "metadata": {},
   "outputs": [],
   "source": []
  }
 ],
 "metadata": {
  "kernelspec": {
   "display_name": "ROOT C++",
   "language": "c++",
   "name": "root"
  },
  "language_info": {
   "codemirror_mode": "text/x-c++src",
   "file_extension": ".C",
   "mimetype": " text/x-c++src",
   "name": "c++"
  },
  "toc-autonumbering": false
 },
 "nbformat": 4,
 "nbformat_minor": 5
}
