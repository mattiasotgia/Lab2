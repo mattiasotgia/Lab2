{
 "cells": [
  {
   "cell_type": "code",
   "execution_count": 20,
   "id": "b9a220be-6e13-4f50-9bcc-80a83d24ba3c",
   "metadata": {},
   "outputs": [],
   "source": [
    "import sys\n",
    "import os\n",
    "\n",
    "from numpy import sqrt\n",
    "import numpy as np\n",
    "\n",
    "from uncertainties import ufloat"
   ]
  },
  {
   "cell_type": "code",
   "execution_count": 9,
   "id": "fed26946-71a3-48aa-b3c7-af8ea4a8d480",
   "metadata": {},
   "outputs": [],
   "source": [
    "%store -r sspeed_result"
   ]
  },
  {
   "cell_type": "code",
   "execution_count": 10,
   "id": "14c0c45a-3f8d-426d-b40c-9334eb094bfd",
   "metadata": {},
   "outputs": [
    {
     "data": {
      "text/plain": [
       "347.58938906184795"
      ]
     },
     "execution_count": 10,
     "metadata": {},
     "output_type": "execute_result"
    }
   ],
   "source": [
    "sspeed_result"
   ]
  },
  {
   "cell_type": "code",
   "execution_count": 11,
   "id": "025e4710-1121-4f1b-a210-b283030a4c78",
   "metadata": {},
   "outputs": [],
   "source": [
    "%store -r sspeed_result_err"
   ]
  },
  {
   "cell_type": "code",
   "execution_count": 12,
   "id": "7b5b79ae-cb29-48a5-ae5a-39adb67e168f",
   "metadata": {},
   "outputs": [
    {
     "data": {
      "text/plain": [
       "0.6689915652494866"
      ]
     },
     "execution_count": 12,
     "metadata": {},
     "output_type": "execute_result"
    }
   ],
   "source": [
    "sspeed_result_err"
   ]
  },
  {
   "cell_type": "code",
   "execution_count": 15,
   "id": "ed930979-5db8-4c2c-89e6-1cee7c83150b",
   "metadata": {},
   "outputs": [],
   "source": [
    "def get_T_theory(value):\n",
    "    T = 273.15*((value[0]/331.3)**2-1)\n",
    "    err_T = 2*273.15/331.3**2 * value[0]*value[1]\n",
    "    return T, err_T"
   ]
  },
  {
   "cell_type": "code",
   "execution_count": 23,
   "id": "f269c6b1-c39c-4d9f-b535-7afbee36e843",
   "metadata": {},
   "outputs": [
    {
     "name": "stdout",
     "output_type": "stream",
     "text": [
      "E6/R3 temperature from v_s(Exp) T=27.52(1.16)\n"
     ]
    }
   ],
   "source": [
    "print('E6/R3 temperature from v_s(Exp) T={:.3uS}'.format(ufloat(get_T_theory((sspeed_result, sspeed_result_err))[0], \n",
    "                                                                get_T_theory((sspeed_result, sspeed_result_err))[1])))"
   ]
  },
  {
   "cell_type": "code",
   "execution_count": null,
   "id": "a3e62419-db35-4601-bed6-41d9b37f81f7",
   "metadata": {},
   "outputs": [],
   "source": []
  }
 ],
 "metadata": {
  "kernelspec": {
   "display_name": "Python 3",
   "language": "python",
   "name": "python3"
  },
  "language_info": {
   "codemirror_mode": {
    "name": "ipython",
    "version": 3
   },
   "file_extension": ".py",
   "mimetype": "text/x-python",
   "name": "python",
   "nbconvert_exporter": "python",
   "pygments_lexer": "ipython3",
   "version": "3.9.6"
  }
 },
 "nbformat": 4,
 "nbformat_minor": 5
}
