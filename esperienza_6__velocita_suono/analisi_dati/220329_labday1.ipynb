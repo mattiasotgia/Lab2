{
 "cells": [
  {
   "cell_type": "code",
   "execution_count": 1,
   "id": "490a2bc2-2b70-4968-9c69-a323089c4716",
   "metadata": {},
   "outputs": [],
   "source": [
    "%jsroot on\n",
    "\n",
    "gInterpreter->AddIncludePath(\"/usr/local/include\");\n",
    "gSystem->Load(\"/usr/local/lib/libErrorAnalysis\");\n",
    "gSystem->Load(\"/usr/local/lib/libLabTools\");\n",
    "gSystem->Load(\"/usr/local/lib/libBode\");"
   ]
  },
  {
   "cell_type": "markdown",
   "id": "7aa97beb-c9ca-4213-ae9f-d037839cfbad",
   "metadata": {},
   "source": [
    "Modellazione e analisi dati diretta in laboratorio: 29 marzo 2022\n"
   ]
  },
  {
   "cell_type": "code",
   "execution_count": 2,
   "id": "7dbbde43-55b4-45db-bdb4-3c961ddad56b",
   "metadata": {},
   "outputs": [],
   "source": [
    "#include<fstream>"
   ]
  },
  {
   "cell_type": "code",
   "execution_count": 3,
   "id": "91ad3077-b1a5-4ee5-8de6-6672db551dd4",
   "metadata": {},
   "outputs": [],
   "source": [
    "#include<LabPlot.h> "
   ]
  },
  {
   "cell_type": "code",
   "execution_count": 4,
   "id": "49e6d951-bf8e-471c-a698-dc44a3e879f4",
   "metadata": {},
   "outputs": [
    {
     "name": "stdout",
     "output_type": "stream",
     "text": [
      "\u001b[34;1mApplying ATLAS style settings\u001b[0m\n"
     ]
    }
   ],
   "source": [
    "set_atlas_style(25);"
   ]
  },
  {
   "cell_type": "code",
   "execution_count": 5,
   "id": "e4432fd9-d604-4660-a4a3-78f47038a01d",
   "metadata": {},
   "outputs": [],
   "source": [
    "double get_TRangeErr(double range1, double errPercent = 0.0016, int partition = 10){\n",
    "    return range1 * errPercent * partition / sqrt(3);\n",
    "}"
   ]
  },
  {
   "cell_type": "code",
   "execution_count": 6,
   "id": "7ca8330e-5ec7-4b07-ba0f-69067c25baa4",
   "metadata": {},
   "outputs": [],
   "source": [
    "#include<LabTools.h> \n",
    "#include<LabStat.h>"
   ]
  },
  {
   "cell_type": "code",
   "execution_count": null,
   "id": "8c969ddd-bad0-4efd-a232-414cdaa49199",
   "metadata": {},
   "outputs": [],
   "source": []
  },
  {
   "cell_type": "code",
   "execution_count": 37,
   "id": "39332a8e-44dc-4180-a116-47e6e0e98b89",
   "metadata": {},
   "outputs": [],
   "source": [
    "TCanvas *c1 = new TCanvas(\"\", \"\", 800, 700);\n",
    "\n",
    "std::ifstream upfront_analog_data(\"../dati/upfront_analog_data_220329.txt\");\n",
    "std::ifstream downfront_analog_data(\"../dati/downfront_analog_data_220329.txt\");\n",
    "\n",
    "char *tmp;\n",
    "\n",
    "Double_t offset_tmp = 0.19; // offset di misura (initial guess)\n",
    "Double_t diametro_spk = 0.05985; // 2*offset verticale (da aggiungere in quadratura)\n",
    "\n",
    "TGraphErrors *u_ag_g = new TGraphErrors();\n",
    "TGraphErrors *d_ag_g = new TGraphErrors();\n",
    "\n",
    "u_ag_g->GetXaxis()->CenterTitle();\n",
    "u_ag_g->GetYaxis()->CenterTitle();\n",
    "\n",
    "Double_t d, t, fst;\n",
    "\n",
    "TLegend *l = new TLegend(0.2, 0.65, 0.5, 0.9);\n",
    "l->SetFillColorAlpha(0, 0.75);\n",
    "l->SetTextSize(20);\n",
    "l->SetHeader(\"#bf{Analogic} #it{Preliminary}\");\n",
    "\n",
    "\n",
    "\n",
    "\n",
    "\n",
    "\n",
    "\n",
    "\n",
    "\n"
   ]
  },
  {
   "cell_type": "code",
   "execution_count": 38,
   "id": "9b69e4d5-a554-4c6c-928f-72a9cc9efac0",
   "metadata": {},
   "outputs": [
    {
     "name": "stdout",
     "output_type": "stream",
     "text": [
      " FCN=20.2347 FROM MIGRAD    STATUS=CONVERGED      72 CALLS          73 TOTAL\n",
      "                     EDM=2.17311e-08    STRATEGY= 1      ERROR MATRIX ACCURATE \n",
      "  EXT PARAMETER                                   STEP         FIRST   \n",
      "  NO.   NAME      VALUE            ERROR          SIZE      DERIVATIVE \n",
      "   1  p0          -4.21511e-01   1.97068e-03   1.20891e-06  -8.74080e-02\n",
      "   2  p1           2.87307e+00   5.39452e-03   3.30922e-06   6.93095e-03\n",
      " FCN=1.20962 FROM MIGRAD    STATUS=CONVERGED      74 CALLS          75 TOTAL\n",
      "                     EDM=1.18502e-07    STRATEGY= 1      ERROR MATRIX ACCURATE \n",
      "  EXT PARAMETER                                   STEP         FIRST   \n",
      "  NO.   NAME      VALUE            ERROR          SIZE      DERIVATIVE \n",
      "   1  p0          -3.65710e-01   3.65261e-03   6.14674e-07  -5.51057e-01\n",
      "   2  p1           2.85823e+00   8.43392e-03   1.41926e-06  -2.15713e-01\n"
     ]
    }
   ],
   "source": [
    "for(int i=0; upfront_analog_data>>d>>t>>fst; i++){\n",
    "    \n",
    "    u_ag_g->SetPoint(i, d, t);\n",
    "    u_ag_g->SetPointError(i, 0.001/std::sqrt(3), get_TRangeErr(fst));\n",
    "}\n",
    "\n",
    "for(int i=0; downfront_analog_data>>d>>t>>fst; i++){\n",
    "    \n",
    "    d_ag_g->SetPoint(i, d, t);\n",
    "    d_ag_g->SetPointError(i, 0.001/std::sqrt(3), get_TRangeErr(fst));\n",
    "}\n",
    "\n",
    "TF1 *u_ag_f = new TF1(\"u_ag_f\", \"[0]+x*[1]\");\n",
    "\n",
    "u_ag_f->SetParameters(offset_tmp/340, 1/340);\n",
    "u_ag_f->SetParameter(2, std::pow(diametro_spk/2, 2));\n",
    "\n",
    "TF1 *d_ag_f = new TF1(\"d_ag_f\", \"[0]+x*[1]\");\n",
    "\n",
    "d_ag_f->SetParameters(offset_tmp/340, 1/340);\n",
    "//d_ag_f->SetParameter(2, std::pow(diametro_spk/2, 2));\n",
    "\n",
    "u_ag_g->SetTitle(\";Distance [m];Delay [ms]\");\n",
    "\n",
    "u_ag_g->Draw(\"ap\");\n",
    "u_ag_g->Fit(\"u_ag_f\");\n",
    "l->AddEntry(u_ag_g, \"Up edge triggered\", \"LPE\");\n",
    "\n",
    "d_ag_g->SetMarkerColor(kRed);\n",
    "d_ag_g->SetLineColor(kRed);\n",
    "d_ag_f->SetLineColor(kRed);\n",
    "\n",
    "d_ag_g->Draw(\"p\");\n",
    "d_ag_g->Fit(\"d_ag_f\");\n",
    "l->AddEntry(d_ag_g, \"Down edge triggered\", \"LPE\");\n",
    "\n",
    "l->Draw();"
   ]
  },
  {
   "cell_type": "code",
   "execution_count": 39,
   "id": "3172ad44-e5fc-432c-bccf-9f91feade867",
   "metadata": {},
   "outputs": [
    {
     "data": {
      "image/png": "[encoded data removed]",
      "text/plain": [
       "<IPython.core.display.Image object>"
      ]
     },
     "metadata": {},
     "output_type": "display_data"
    },
    {
     "name": "stdout",
     "output_type": "stream",
     "text": [
      "\n",
      "** CHI2 / NDF ( PROB. ) 20.2347 / 10 ( 0.0271097 )\n",
      "\n",
      "\n",
      "** CHI2 / NDF ( PROB. ) 1.20962 / 5 ( 0.943952 )\n",
      "\n",
      "COMPATIBILE\n",
      "significativita' statistica  1.482615 σ\n"
     ]
    }
   ],
   "source": [
    "%jsroot off\n",
    "c1->Draw();\n",
    "\n",
    "logs::print_stat(u_ag_f);\n",
    "logs::print_stat(d_ag_f);\n",
    "\n",
    "std::cout << LabStat::compatible_nocorr(u_ag_f->GetParameter(1), u_ag_f->GetParError(1), \n",
    "                                        d_ag_f->GetParameter(1), d_ag_f->GetParError(1)) << \"\\n\"\n",
    "    << LabStat::get_statsign(u_ag_f->GetParameter(1), u_ag_f->GetParError(1), \n",
    "                             d_ag_f->GetParameter(1), d_ag_f->GetParError(1)) << \"\\n\";"
   ]
  },
  {
   "cell_type": "code",
   "execution_count": 40,
   "id": "8a12f3b2-150f-4a6a-9967-7abcf4043402",
   "metadata": {},
   "outputs": [
    {
     "name": "stderr",
     "output_type": "stream",
     "text": [
      "Info in <TCanvas::Print>: pdf file ../fig/analog_plot_d1.pdf has been created\n"
     ]
    }
   ],
   "source": [
    "c1->Print(\"../fig/analog_plot_d1.pdf\")"
   ]
  },
  {
   "cell_type": "code",
   "execution_count": null,
   "id": "d9cac7a4-352d-43f1-a98c-1ff5a5def4fb",
   "metadata": {},
   "outputs": [],
   "source": []
  }
 ],
 "metadata": {
  "kernelspec": {
   "display_name": "ROOT C++",
   "language": "c++",
   "name": "root"
  },
  "language_info": {
   "codemirror_mode": "text/x-c++src",
   "file_extension": ".C",
   "mimetype": " text/x-c++src",
   "name": "c++"
  }
 },
 "nbformat": 4,
 "nbformat_minor": 5
}
