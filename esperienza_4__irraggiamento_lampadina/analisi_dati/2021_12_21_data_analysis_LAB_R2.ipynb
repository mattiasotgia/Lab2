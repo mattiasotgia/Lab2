{
 "cells": [
  {
   "cell_type": "markdown",
   "id": "occupied-anatomy",
   "metadata": {},
   "source": [
    "# Analisi dati relazione 2, esperienza 4\n",
    "_martedì 21 dicembre_\n",
    "\n",
    "\n",
    "## Osservazioni sulle relazioni di laboratorio n. 1\n",
    "\n",
    "### Osservazioni sui fit\n",
    "\n",
    "Spesso ci affidiamo troppo al risultato del fit, trascurando l'effettivo risultato del fit, ovvero osservando i valori di $\\chi^2/\\text{ndf}$ e poi verificandone così la bontà.\n",
    "\n",
    "> Si può in effetti provare ad escludere alcuni punti da quelli utilizzati per esempi osservando che siano messi fuori dalla linea del fit.\n",
    "\n",
    "### Osservazioni sul fattore di merito\n",
    "\n",
    "Il fattore di merito $Q$ del circuito RLC si presentava come\n",
    "\n",
    "$$\n",
    "H(\\omega) = \\frac{R}{R+R_L + j\\left(\\omega L  \\frac{1}{\\omega C}\\right)}\n",
    "$$\n",
    "\n",
    "che riscrivendo in termini di modulo diventa necessariamente\n",
    "\n",
    "$$\n",
    "|H(\\omega)| = \\frac{1}{\\left(1+ \\frac{R}{R_L}\\right) + Q_{id}\\left(\\frac{\\omega}{\\omega_0}-\\frac{\\omega_0}{\\omega}\\right)}\n",
    "$$\n",
    "\n",
    "dove però il fattore di merito è un fattore di merito ideal, mantre osserviamo l'esistenza di un fattore di merito $Q_{reale}$ reale, che tiene conto delle caratteristiche di impedenza dell'induttanza, dove effettivamente il suo valore dipende da diversi fattori come\n",
    "\n",
    "$$\n",
    "Q_{reale} = \\frac{\\sqrt{L}}{R_{tot} \\sqrt{C}}\n",
    "$$\n",
    "\n",
    "dove $R_{tot}$ dipende da tutte le resistenze presenti nel circuito.\n",
    "\n",
    "> (Il modo di ovviare a questo problema forse lo possiamo trovare nel considerare $L_0$ come il valore di $L$ trovato non dai calcoli ma dal valore di $L_0$ misurato nel caso libero)\n",
    "\n",
    "### Osservazioni sui risultati ottenuti\n",
    "\n",
    "Utilizzare senso fisico per descrivere il fenomeno osservato.\n",
    "\n",
    "Rileggendo la relazione osservo che in effetti non sono forniste esaustive giustificazioni riguardo al valore di $\\mu_R \\text{(Al)}$ ottenuto ($\\mu_R\\text{(Al)} = 0.446(53)$) non corrisponde al modello (materiale paramagnetico)."
   ]
  },
  {
   "cell_type": "code",
   "execution_count": 1,
   "id": "false-council",
   "metadata": {},
   "outputs": [],
   "source": [
    "//%jsroot on\n",
    "gInterpreter->AddIncludePath(\"/usr/local/include\");\n",
    "gSystem->Load(\"/usr/local/lib/libErrorAnalysis\");\n",
    "gSystem->Load(\"/usr/local/lib/libLabTools\");\n",
    "\n",
    "#include<vector>\n",
    "#include<cmath>\n",
    "#include<iostream>\n",
    "#include<fstream>\n",
    "#include<string>\n",
    "\n",
    "#include<TCanvas.h>\n",
    "#include<TGraphErrors.h>\n",
    "#include<TF1.h>\n",
    "#include<TStyle.h>\n",
    "#include<TAxis.h>\n",
    "#include<TMath.h>\n",
    "#include<TLatex.h>\n",
    "#include<TLegend.h>"
   ]
  },
  {
   "cell_type": "code",
   "execution_count": 2,
   "id": "printable-major",
   "metadata": {},
   "outputs": [],
   "source": [
    "#include<ErrorAnalysis.h>\n",
    "#include<LabTools.h>"
   ]
  },
  {
   "cell_type": "code",
   "execution_count": 3,
   "id": "successful-operations",
   "metadata": {},
   "outputs": [],
   "source": [
    "std::string pfix = \"../dati/_zeroed/\";\n",
    "const int full_dataT_s = 8;\n",
    "std::string all_data_table[] = {\n",
    "    \"dati_2.txt\",  //> 0\n",
    "    \"dati_4.txt\",  //> 1\n",
    "    \"dati_5.txt\",  //> 2\n",
    "    \"dati_6.txt\",  //> 3\n",
    "    \"dati_8.txt\",  //> 4 \n",
    "    \"dati_10.txt\", //> 5\n",
    "    \"dati_12.txt\", //> 6\n",
    "    \"dati_20.txt\" //> 7\n",
    "};\n",
    "\n",
    "std::ifstream data_table;"
   ]
  },
  {
   "cell_type": "markdown",
   "id": "tamil-congress",
   "metadata": {},
   "source": [
    "## Commenti Carlo Schiavi su possibili modelli per analizzare le curve di riscaldamento della lampadina\n",
    "\n",
    "Abbiamo dei dati che rappresentano delle curve di riscaldamento, dobbiamo individuare quali sono le quantità che misuriamo e quelle che possiamo individuare attraverso dei calcoli. \n",
    "\n",
    "#### Cosa abbiamo misurato?\n",
    "\n",
    "Abbiamo ottenuto delle curve di dati di tensione in funzione del tempo. \n",
    "\n",
    "Mi sono venuti in mente più modi per scegliere il modello su come affrontare questi dati?\n",
    "\n",
    "_Quantità da misurare?_\n",
    "\n",
    "Ci interessa misurare una differenza di tensione $\\Delta V$. "
   ]
  },
  {
   "cell_type": "markdown",
   "id": "lasting-development",
   "metadata": {},
   "source": [
    "### Considerazioni di tipo fisico\n",
    "\n",
    "La lampadina scalda il PT100, che però prima passa attraverso il vetro, che però poi passa attraverso una bolla d'aria. \n",
    "\n",
    "Quantità da misurare: Variazione di tensione in funzione del tempo $\\Delta V (\\Delta t)$\n",
    "\n",
    "Definisco queste qunatità come segue:\n",
    "- scelgo tempo $t=0$ quando accendo la lampadina;\n",
    "- scelgo $\\Delta t$ tale che io possa rimanere in regime di irraggiamento\n",
    "\n",
    "Lasciamo per ora indietro il discorso sull'incertezza.\n",
    "\n",
    "Arbitrarietà:\n",
    "- Scelta di $\\Delta t$: come cambiano i risultati scegliendo un altro valore di questo intervallo?  \n",
    "(NOTA: interessante potrebbe essere notare cosa succede se sceglo un $\\Delta t$ con valori anche nell'intervallo del secondo regime.\n",
    "- Sistematica basata sullo studio del risultato finale con diversi $\\Delta t$."
   ]
  },
  {
   "cell_type": "markdown",
   "id": "opposite-baptist",
   "metadata": {},
   "source": [
    "### Esempio funzionale per lo studio dei modelli possibili\n",
    "\n",
    "Procedo ad analizzare le misure effettuate ad una distanza di .05 m "
   ]
  },
  {
   "cell_type": "code",
   "execution_count": 4,
   "id": "every-matter",
   "metadata": {
    "scrolled": false
   },
   "outputs": [
    {
     "data": {
      "image/png": "[encoded data removed]",
      "text/plain": [
       "<IPython.core.display.Image object>"
      ]
     },
     "metadata": {},
     "output_type": "display_data"
    }
   ],
   "source": [
    "data_table.open((pfix + all_data_table[2]).c_str());\n",
    "TCanvas c1;\n",
    "c1.SetGrid();\n",
    "TGraphErrors g;\n",
    "\n",
    "double t, vin, evin, range; \n",
    "\n",
    "for(int j=0; data_table >> t >> vin >> evin >> range; j++){\n",
    "    g.SetPoint(j, t, vin);\n",
    "    g.SetPointError(j, 0, 0.01);\n",
    "}\n",
    "g.Draw(\"Ap\");\n",
    "g.SetTitle(\"d = 5#times10^{-2}m;Time [s]; #splitline{Voltage}{Serial reading [V]}\");\n",
    "c1.Draw();\n",
    "data_table.close();"
   ]
  },
  {
   "cell_type": "markdown",
   "id": "macro-algeria",
   "metadata": {},
   "source": [
    "#### Come potremmo calcolare la variazione di tensione rispetto al tempo\n",
    "\n",
    "##### Modello #1 (linearizzazione sul primo fronte di discesa)\n",
    "\n",
    "Considerando solo i primi punti rispetto a $t=0$, preso quando viene accesa la lampadina, testare un modello lineare che prevede un andamento del tipo \n",
    "\n",
    "$$\n",
    "V_{\\text{out}}(t) = \\text{(param0)} \\cdot t + \\text{(param1)}\n",
    "$$\n",
    "\n",
    "dove quindi possiamo individuare l'effettiva velocità $dV/dt$ con cui la tensione cambia rispetto al tempo. A questo punto poi la trattazione procede.\n",
    "\n",
    "##### Modello #2 (valutazione della variazione senza modellizzare la curva)\n",
    "\n",
    "Procediamo azzerando i valori della tensione a $t=0$ s quando la lampadina viene accesa, considerando poi un intervallo sensato (_vedere dopo_) possiamo leggere la misura della tensione, poi valutare quindi la variazione. \n",
    "\n",
    "Per scegliere un intervallo sensato bisogna effettuare alcuni ragionamenti di come si propaga il calore e di come quindi interagisce con il PT100, e come risponde lo strumento. \n",
    "\n",
    "All'accensione dalla lampadina la luce viaggia a velocità $c$ quindi possiamo di fatto ocnsiderare la sua iterazione con il termometro al platino immediata. Dopo un po' di tempo però con il termometro interviene un secondo fattore che non permette una imsura veritiera della temeperatura. Dentro alla struttura del termometro infatti aria intrappolata si scalda e dopo un certo intervallo (impossibile determinarlo solo con pochi dati a disposizione) interviene e contribuisce alla variazione della temperatura letta dallo strumento. Quindi non osserviamo più solo una lettura dell'irraggiamento, ma osserviamo anche una misura della temperatura dell'ambiente circostante, che interviene in modo importante e principale dopo un certo intervallo $\\Delta t_1$. misurando quindi la variazione di tensione entro $\\Delta t_1$ possiamo di fatto trascurare questo fatto. Potrebbe essere interessante procedere invece ad evidenziare intervalli successivamente grandi $\\Delta t_2$, $\\Delta t_3$, ... per vedere come si può comportare il risultato finale. \n",
    "\n",
    "##### Modello #3 (derivazione fine del modello #2)\n",
    "\n",
    "Procedere in modo simile al #2 ma di fatto effettuare alcune considerazioni sugli errori ottenuti da alcune considerazioni sulla variazione effettiva della tensione sul tempo."
   ]
  },
  {
   "cell_type": "code",
   "execution_count": 5,
   "id": "german-student",
   "metadata": {},
   "outputs": [
    {
     "data": {
      "image/png": "[encoded data removed]",
      "text/plain": [
       "<IPython.core.display.Image object>"
      ]
     },
     "metadata": {},
     "output_type": "display_data"
    }
   ],
   "source": [
    "TCanvas *c3 = new TCanvas();\n",
    "c3->Divide(2,4);\n",
    "\n",
    "for(int k=0; k<8; k++){\n",
    "    ifstream *data = new ifstream((pfix + all_data_table[k]).c_str());\n",
    "    TGraphErrors *g1 = new TGraphErrors();\n",
    "    for(int j=0; (*data >> t >> vin >> evin >> range) && j<15; j++){\n",
    "        g1->SetPoint(j, t, vin);\n",
    "        g1->SetPointError(j, 0, 0.01);\n",
    "    }\n",
    "    c3->cd(k+1);\n",
    "    g1->Draw(\"Ap\");\n",
    "    g1->SetTitle((all_data_table[k] + \";Time [s]; Voltage [V]\").c_str());\n",
    "    data->close();\n",
    "}\n",
    "c3->Draw();"
   ]
  },
  {
   "cell_type": "code",
   "execution_count": 22,
   "id": "fatal-friday",
   "metadata": {
    "scrolled": false
   },
   "outputs": [
    {
     "data": {
      "image/png": "[encoded data removed]",
      "text/plain": [
       "<IPython.core.display.Image object>"
      ]
     },
     "metadata": {},
     "output_type": "display_data"
    },
    {
     "name": "stdout",
     "output_type": "stream",
     "text": [
      "[-0.0684045 +- 0.0014832]\n",
      "[-0.0488412 +- 0.00147613]\n",
      "[-0.0501772 +- 0.00146523]\n",
      "[-0.0308415 +- 0.00147008]\n",
      "[-0.0244878 +- 0.00147526]\n",
      "[-0.0160445 +- 0.00147859]\n",
      "[-0.0127483 +- 0.00148104]\n",
      "[-0.00536735 +- 0.00148098]\n",
      " FCN=9.10889 FROM MIGRAD    STATUS=CONVERGED     154 CALLS         155 TOTAL\n",
      "                     EDM=2.54373e-10    STRATEGY= 1      ERROR MATRIX ACCURATE \n",
      "  EXT PARAMETER                                   STEP         FIRST   \n",
      "  NO.   NAME      VALUE            ERROR          SIZE      DERIVATIVE \n",
      "   1  p0           5.75909e-04   1.96940e-04   4.14331e-08  -6.59347e-01\n",
      "   2  p1           1.45078e+00   1.32434e-01   2.78778e-05  -8.64970e-04\n",
      "\n",
      "** CHI2 / NDF ( PROB. ) 9.10889 / 6 ( 0.167546 )\n",
      "\n"
     ]
    }
   ],
   "source": [
    "TCanvas *c4 = new TCanvas();\n",
    "graphset::setcanvas(c4, 2,1);\n",
    "double d[8] = {0.02, 0.04, 0.05, 0.06, 0.08, 0.1, 0.12, 0.2};\n",
    "double dVdt[8];\n",
    "double err_dVdt[8];\n",
    "\n",
    "Color_t mk[8] = {kRed, kOrange, kGreen-5, kAzure, kViolet-8, kGray+1, kBlue-3, kSpring-6};\n",
    "//Color_t mk[8] = {100, 95, 90, 84, 65, 225, 57, 223};\n",
    "\n",
    "c4->cd(1);\n",
    "graphset::setcanvas(c4->cd(1));\n",
    "\n",
    "TLegend *l = new TLegend(0.15, 0.15, 0.6, 0.5);\n",
    "l->SetHeader(\"#bf{MODELLO #1}\");\n",
    "l->SetBorderSize(0);\n",
    "l->SetFillColorAlpha(kWhite, 0);\n",
    "\n",
    "for(int k = 0; k<8; k++){\n",
    "    TGraphErrors *g1 = new TGraphErrors();\n",
    "    ifstream data((pfix + all_data_table[k]).c_str());\n",
    "    std::string dist = all_data_table[k].substr(all_data_table[k].find(\"_\")+1, \n",
    "                                                all_data_table[k].find(\".\")-all_data_table[k].find(\"_\")-1);\n",
    "\n",
    "    g1->SetName((\"g1_\"+dist).c_str());\n",
    "    \n",
    "    double t1, v1, ev1, range1;\n",
    "\n",
    "    data >> t1 >> v1 >> ev1 >> range1;\n",
    "\n",
    "    g1->SetPoint(0, 0, 0);\n",
    "    g1->SetPointError(0, 0, 0.014);\n",
    "    const double t0 = t1; // zeroing data\n",
    "    const double v0 = v1;\n",
    "\n",
    "    for(int j = 1; (data >> t1 >> v1 >> ev1 >> range1) && (j<15); j++){\n",
    "        g1->SetPoint(j, t1-t0, v1-v0);\n",
    "        g1->SetPointError(j, 0, 0.014);\n",
    "    }\n",
    "    data.close();\n",
    "\n",
    "    TF1 *mod1 = new TF1((\"mod1_\"+ dist).c_str(), \"[0]*x+[1]\", 0, 10);\n",
    "    graphset::setmarker(g1, mod1, mk[k], 21, 0.4);\n",
    "    mod1->SetParameter(0, 0.1);\n",
    "\n",
    "    //logs::print_mmsg((\"processing graph\" + all_data_table[k]).c_str());\n",
    "    \n",
    "    g1->Draw((k==0)? \"ap\":\"p\");\n",
    "    g1->Fit((\"mod1_\"+ dist).c_str(), \"Q\", \"\", 0, 10);\n",
    "    l->AddEntry((\"g1_\"+ dist).c_str(), (\"d=\" + dist + \"#times10^{-2} m\").c_str());\n",
    "    g1->GetXaxis()->SetLimits(-1, 20);\n",
    "\n",
    "    std::cout << \"[\" << mod1->GetParameter(0) << \" +- \" << mod1->GetParError(0) << \"]\" << std::endl;\n",
    "\n",
    "    //logs::print_stat(mod1);\n",
    "    dVdt[k] = mod1->GetParameter(0);\n",
    "    err_dVdt[k] = mod1->GetParError(0);\n",
    "}\n",
    "l->Draw();\n",
    "\n",
    "c4->cd(2);\n",
    "graphset::setcanvas(c4->cd(2));\n",
    "TGraphErrors *plot = new TGraphErrors();\n",
    "for(int j=0; j<8; j++){\n",
    "    // if(j==2) continue;\n",
    "    plot->SetPoint(j, d[j], abs(dVdt[j]));\n",
    "    plot->SetPointError(j, 0.004, err_dVdt[j]); // Stima dell'errore sulla distanza ad 1e-2 m\n",
    "}\n",
    "plot->Draw(\"ap\");\n",
    "plot->SetTitle(\";Source distance [m];Voltage speed after 10s [V/s]\");\n",
    "//graphset::set_TGraphAxis(plot, \"Voltage speed after 10s [V/s]\", 1, \"Source distance [m]\");\n",
    "\n",
    "TF1 *fit_mod1 = new TF1(\"fit_mod1\", \"[0]/pow(x, [1])\");\n",
    "fit_mod1->SetParameter(0, 0.1);\n",
    "fit_mod1->SetParameter(1,2);\n",
    "\n",
    "plot->Fit(\"fit_mod1\");\n",
    "\n",
    "logs::print_stat(fit_mod1);\n",
    "\n",
    "c4->Draw();"
   ]
  },
  {
   "cell_type": "markdown",
   "id": "electrical-rochester",
   "metadata": {},
   "source": [
    "leggo il file relativo alla valutazione del rumore"
   ]
  },
  {
   "cell_type": "code",
   "execution_count": 7,
   "id": "fitted-campus",
   "metadata": {},
   "outputs": [],
   "source": [
    "std::string rumore = \"../dati/valutazione_rumore.txt\";"
   ]
  },
  {
   "cell_type": "markdown",
   "id": "alert-solomon",
   "metadata": {},
   "source": [
    "#### Considerazioni sull'incertezza\n",
    "\n",
    "Come possiamo fare a valutare il valore di errore sulla misura di tensione?\n",
    "\n",
    "Abbiamo raccolto un set di dati che rappresentato il valore di tensione letta quando la lampadina era spenta e quando solo la strumentazione era messa in tensione. \n",
    "\n",
    "Eseguendo un histo, possiamo effettivamente vedere se i dati si dispongono secondo una gausssiana, e nel caso effettivamente misurare come valore di errore a $1\\sigma$ la dev. std. dell'istogramma."
   ]
  },
  {
   "cell_type": "code",
   "execution_count": 8,
   "id": "welcome-rebecca",
   "metadata": {},
   "outputs": [
    {
     "data": {
      "image/png": "[encoded data removed]",
      "text/plain": [
       "<IPython.core.display.Image object>"
      ]
     },
     "metadata": {},
     "output_type": "display_data"
    }
   ],
   "source": [
    "TCanvas c2;\n",
    "double T, V, eV, range, crange;\n",
    "std::ifstream file(rumore.c_str());\n",
    "TH1D hist(\"\", \"\", 20, -25e-3, 35e-3);\n",
    "while (file >> T >> V >> eV >> range >> crange){hist.Fill(V);}\n",
    "TF1 hf(\"hf\", \"gaus\");\n",
    "hist.Draw(\"HIST\");\n",
    "c2.Draw();"
   ]
  },
  {
   "cell_type": "markdown",
   "id": "genetic-kruger",
   "metadata": {},
   "source": [
    "#### Alcune note finali\n",
    "\n",
    "Andando ad eseguire un fit lineare sui primi 5/6 punti, ovvero fino a quando possiamo effettivamente osservare un regime lineare, posso trovare la velocità a cui il corpo si scalda. \n",
    "\n",
    "#### Valutazione errore\n",
    "\n",
    "La curva in valutazione errore non presenta una guassiana perfetta. \n",
    "Potremmo procedere per batches, ovvero dividendo i punti, che sono effettivamente tanti, in batch da 40/50 punti e poi procedere a misurare RMS su questi valori, a questo punto poi verificarne la compatibilità e quindi verificare come di comportino singolarmente. "
   ]
  }
 ],
 "metadata": {
  "kernelspec": {
   "display_name": "ROOT C++",
   "language": "c++",
   "name": "root"
  },
  "language_info": {
   "codemirror_mode": "text/x-c++src",
   "file_extension": ".C",
   "mimetype": " text/x-c++src",
   "name": "c++"
  }
 },
 "nbformat": 4,
 "nbformat_minor": 5
}
