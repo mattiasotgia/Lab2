{
 "cells": [
  {
   "cell_type": "markdown",
   "id": "occupied-anatomy",
   "metadata": {},
   "source": [
    "# Analisi dati relazione 2, esperienza 4\n",
    "_martedì 21 dicembre_\n"
   ]
  },
  {
   "cell_type": "code",
   "execution_count": 5,
   "id": "false-council",
   "metadata": {},
   "outputs": [],
   "source": [
    "gInterpreter->AddIncludePath(\"/usr/local/include\");\n",
    "gSystem->Load(\"/usr/local/lib/libErrorAnalysis\");\n",
    "gSystem->Load(\"/usr/local/lib/libLabTools\");\n",
    "\n",
    "#include<vector>\n",
    "#include<cmath>\n",
    "#include<iostream>\n",
    "#include<fstream>\n",
    "#include<string>\n",
    "\n",
    "#include<TCanvas.h>\n",
    "#include<TGraphErrors.h>\n",
    "#include<TF1.h>\n",
    "#include<TStyle.h>\n",
    "#include<TAxis.h>\n",
    "#include<TMath.h>\n",
    "#include<TLatex.h>\n",
    "#include<TLegend.h>"
   ]
  },
  {
   "cell_type": "code",
   "execution_count": 2,
   "id": "fantastic-violin",
   "metadata": {},
   "outputs": [],
   "source": [
    "#include<ErrorAnalysis.h>\n",
    "#include<LabTools.h>"
   ]
  },
  {
   "cell_type": "code",
   "execution_count": 4,
   "id": "printable-major",
   "metadata": {},
   "outputs": [],
   "source": [
    "graphset::init();"
   ]
  }
 ],
 "metadata": {
  "kernelspec": {
   "display_name": "ROOT C++",
   "language": "c++",
   "name": "root"
  },
  "language_info": {
   "codemirror_mode": "text/x-c++src",
   "file_extension": ".C",
   "mimetype": " text/x-c++src",
   "name": "c++"
  }
 },
 "nbformat": 4,
 "nbformat_minor": 5
}
