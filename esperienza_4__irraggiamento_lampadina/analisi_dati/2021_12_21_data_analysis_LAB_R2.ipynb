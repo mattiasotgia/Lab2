{
 "cells": [
  {
   "cell_type": "markdown",
   "id": "occupied-anatomy",
   "metadata": {},
   "source": [
    "# Analisi dati relazione 2, esperienza 4\n",
    "_martedì 21 dicembre_\n",
    "\n",
    "\n",
    "## Osservazioni sulle relazioni di laboratorio n. 1\n",
    "\n",
    "### Osservazioni sui fit\n",
    "\n",
    "Spesso ci affidiamo troppo al risultato del fit, trascurando l'effettivo risultato del fit, ovvero osservando i valori di $\\chi^2/\\text{ndf}$ e poi verificandone così la bontà.\n",
    "\n",
    "> Si può in effetti provare ad escludere alcuni punti da quelli utilizzati per esempi osservando che siano messi fuori dalla linea del fit.\n",
    "\n",
    "### Osservazioni sul fattore di merito\n",
    "\n",
    "Il fattore di merito $Q$ del circuito RLC si presentava come\n",
    "\n",
    "$$\n",
    "H(\\omega) = \\frac{R}{R+R_L + j\\left(\\omega L  \\frac{1}{\\omega C}\\right)}\n",
    "$$\n",
    "\n",
    "che riscrivendo in termini di modulo diventa necessariamente\n",
    "\n",
    "$$\n",
    "|H(\\omega)| = \\frac{1}{\\left(1+ \\frac{R}{R_L}\\right) + Q_{id}\\left(\\frac{\\omega}{\\omega_0}-\\frac{\\omega_0}{\\omega}\\right)}\n",
    "$$\n",
    "\n",
    "dove però il fattore di merito è un fattore di merito ideal, mantre osserviamo l'esistenza di un fattore di merito $Q_{reale}$ reale, che tiene conto delle caratteristiche di impedenza dell'induttanza, dove effettivamente il suo valore dipende da diversi fattori come\n",
    "\n",
    "$$\n",
    "Q_{reale} = \\frac{\\sqrt{L}}{R_{tot} \\sqrt{C}}\n",
    "$$\n",
    "\n",
    "dove $R_{tot}$ dipende da tutte le resistenze presenti nel circuito.\n",
    "\n",
    "> (Il modo di ovviare a questo problema forse lo possiamo trovare nel considerare $L_0$ come il valore di $L$ trovato non dai calcoli ma dal valore di $L_0$ misurato nel caso libero)\n",
    "\n",
    "### Osservazioni sui risultati ottenuti\n",
    "\n",
    "Utilizzare senso fisico per descrivere il fenomeno osservato.\n",
    "\n",
    "Rileggendo la relazione osservo che in effetti non sono forniste esaustive giustificazioni riguardo al valore di $\\mu_R \\text{(Al)}$ ottenuto ($\\mu_R\\text{(Al)} = 0.446(53)$) non corrisponde al modello (materiale paramagnetico)."
   ]
  },
  {
   "cell_type": "code",
   "execution_count": 1,
   "id": "false-council",
   "metadata": {},
   "outputs": [],
   "source": [
    "gInterpreter->AddIncludePath(\"/usr/local/include\");\n",
    "gSystem->Load(\"/usr/local/lib/libErrorAnalysis\");\n",
    "gSystem->Load(\"/usr/local/lib/libLabTools\");\n",
    "\n",
    "#include<vector>\n",
    "#include<cmath>\n",
    "#include<iostream>\n",
    "#include<fstream>\n",
    "#include<string>\n",
    "\n",
    "#include<TCanvas.h>\n",
    "#include<TGraphErrors.h>\n",
    "#include<TF1.h>\n",
    "#include<TStyle.h>\n",
    "#include<TAxis.h>\n",
    "#include<TMath.h>\n",
    "#include<TLatex.h>\n",
    "#include<TLegend.h>"
   ]
  },
  {
   "cell_type": "code",
   "execution_count": 2,
   "id": "printable-major",
   "metadata": {},
   "outputs": [],
   "source": [
    "#include<ErrorAnalysis.h>\n",
    "#include<LabTools.h>"
   ]
  },
  {
   "cell_type": "code",
   "execution_count": 3,
   "id": "successful-operations",
   "metadata": {},
   "outputs": [],
   "source": [
    "std::string pfix = \"../dati/_clean/\";\n",
    "const int full_dataT_s = 8;\n",
    "std::string all_data_table[] = {\n",
    "    \"dati_2.txt\",\n",
    "    \"dati_4.txt\",\n",
    "    \"dati_5.txt\",\n",
    "    \"dati_6.txt\",\n",
    "    \"dati_8.txt\",\n",
    "    \"dati_10.txt\",\n",
    "    \"dati_12.txt\",\n",
    "    // \"dati_15.txt\",\n",
    "    \"dati_20.txt\",\n",
    "    // \"dati_30.txt\",\n",
    "    // \"dati_40.txt\",\n",
    "    // \"dati_50.txt\",\n",
    "    // \"dati_60.txt\",\n",
    "    // \"dati_60_1.txt\",\n",
    "};\n",
    "\n",
    "std::ifstream data_table;"
   ]
  },
  {
   "cell_type": "markdown",
   "id": "dynamic-interpretation",
   "metadata": {},
   "source": [
    "### Cosa fare:\n",
    "\n",
    "Dichiarati oggetti per richiamare ogni tipo di file apribile, procediamo ad osservare come possiamo analizzare i dati. "
   ]
  },
  {
   "cell_type": "markdown",
   "id": "tamil-congress",
   "metadata": {},
   "source": [
    "### Commenti Carlo Schiavi su possibili modelli per analizzare le curve di riscaldamento della lampadina\n",
    "\n",
    "Abbiamo dei dati che rappresentano delle curve di riscaldamento, dobbiamo individuare quali sono le quantità che misuriamo e quelle che possiamo individuare attraverso dei calcoli. \n",
    "\n",
    "#### Cosa abbiamo misurato?\n",
    "\n",
    "Abbiamo ottenuto delle curve di dati di tensione in funzione del tempo. \n",
    "\n",
    "Mi sono venuti in mente più modi per scegliere il modello su come affrontare questi dati?\n",
    "\n",
    "_Quantità da misurare?_\n",
    "\n",
    "Ci interessa misurare una differenza di tensione $\\Delta V$. "
   ]
  },
  {
   "cell_type": "code",
   "execution_count": 4,
   "id": "tamil-strip",
   "metadata": {},
   "outputs": [],
   "source": [
    "data_table.open((pfix + all_data_table[4]).c_str());\n",
    "    std::string rumore = \"../dati/valutazione_rumore.txt\";"
   ]
  },
  {
   "cell_type": "markdown",
   "id": "lasting-development",
   "metadata": {},
   "source": [
    "La lampadina scalda il PT100, che però prima passa attraverso il vetro, che però poi passa attraverso una bolla d'aria. \n",
    "\n",
    "Quantità da misurare: Variazione di tensione in funzione del tempo $\\Delta V (\\Delta t)$\n",
    "\n",
    "Definisco queste qunatità come segue:\n",
    "- scelgo tempo $t=0$ quando accendo la lampadina;\n",
    "- scelgo $\\Delta t$ tale che io possa rimanere in regime di irraggiamento\n",
    "\n",
    "Lasciamo per ora indietro il discorso sull'incertezza.\n",
    "\n",
    "Arbitrarietà:\n",
    "- Scelta di $\\Delta t$: come cambiano i risultati scegliendo un altro valore di questo intervallo?\\\n",
    "(NOTA: interessante potrebbe essere notare cosa succede se sceglo un $\\Delta t$ con valori anche nell'intervallo del secondo regime.\n",
    "- ??"
   ]
  },
  {
   "cell_type": "code",
   "execution_count": 5,
   "id": "every-matter",
   "metadata": {},
   "outputs": [
    {
     "data": {
      "image/png": "[encoded data removed]",
      "text/plain": [
       "<IPython.core.display.Image object>"
      ]
     },
     "metadata": {},
     "output_type": "display_data"
    }
   ],
   "source": [
    "TCanvas *c1 = new TCanvas();\n",
    "TGraphErrors *g = new TGraphErrors();\n",
    "\n",
    "double t, vin, evin, range;\n",
    "for(int j=0; data_table >> t >> vin >> evin >> range; j++){\n",
    "    g->SetPoint(j, t, vin);\n",
    "    g->SetPointError(j, 0, 0.01);\n",
    "}\n",
    "g->Draw(\"ap\");\n",
    "c1->Update();\n",
    "c1->Draw()\n",
    "    "
   ]
  },
  {
   "cell_type": "markdown",
   "id": "alert-solomon",
   "metadata": {},
   "source": [
    "#### Considerazioni sull'incertezza\n",
    "\n",
    "Come possiamo fare a valutare il valore di errore sulla misura di tensione?\n",
    "\n",
    "Abbiamo raccolto un set di dati che rappresentato il valore di tensione letta quando la lampadina era spenta e quando solo la strumentazione era messa in tensione. \n",
    "\n",
    "Eseguendo un histo, possiamo effettivamente vedere se i dati si dispongono secondo una gausssiana, e nel caso effettivamente misurare come valore di errore a $1\\sigma$ la dev. std. dell'istogramma."
   ]
  },
  {
   "cell_type": "code",
   "execution_count": 14,
   "id": "welcome-rebecca",
   "metadata": {},
   "outputs": [
    {
     "data": {
      "image/png": "[encoded data removed]",
      "text/plain": [
       "<IPython.core.display.Image object>"
      ]
     },
     "metadata": {},
     "output_type": "display_data"
    }
   ],
   "source": [
    "TCanvas c2;\n",
    "double T, V, eV, range, crange;\n",
    "std::ifstream file(rumore.c_str());\n",
    "TH1D hist(\"\", \"\", 15, -25e-3, 35e-3);\n",
    "while (file >> T >> V >> eV >> range >> crange){hist.Fill(V);}\n",
    "hist.Draw(\"HIST\");\n",
    "c2.Draw();"
   ]
  },
  {
   "cell_type": "markdown",
   "id": "genetic-kruger",
   "metadata": {},
   "source": [
    "#### Alcune note finali\n",
    "\n",
    "Andando ad eseguire un fit lineare sui primi 5/6 punti, ovvero fino a quando possiamo effettivamente osservare un regime lineare, posso trovare la velocità a cui il corpo si scalda. \n",
    "\n",
    "#### Valutazione errore\n",
    "\n",
    "La curva in valutazione errore non presenta una guassiana perfetta. \n",
    "Potremmo procedere per batches, ovvero dividendo i punti, che sono effettivamente tanti, in batch da 40/50 punti e poi procedere a misurare RMS su questi valori, a questo punto poi verificarne la compatibilità e quindi verificare come di comportino singolarmente. "
   ]
  }
 ],
 "metadata": {
  "kernelspec": {
   "display_name": "ROOT C++",
   "language": "c++",
   "name": "root"
  },
  "language_info": {
   "codemirror_mode": "text/x-c++src",
   "file_extension": ".C",
   "mimetype": " text/x-c++src",
   "name": "c++"
  }
 },
 "nbformat": 4,
 "nbformat_minor": 5
}
