{
 "cells": [
  {
   "cell_type": "markdown",
   "id": "occupied-anatomy",
   "metadata": {},
   "source": [
    "# Analisi dati relazione 2, esperienza 4\n",
    "_martedì 21 dicembre_\n"
   ]
  },
  {
   "cell_type": "code",
   "execution_count": 10,
   "id": "false-council",
   "metadata": {},
   "outputs": [
    {
     "name": "stderr",
     "output_type": "stream",
     "text": [
      "In file included from input_line_58:23:\n",
      "\u001b[1m/usr/local/include/LabTools.h:28:1: \u001b[0m\u001b[0;1;31merror: \u001b[0m\u001b[1mnamespaces can only be defined in global or namespace scope\u001b[0m\n",
      "{\n",
      "\u001b[0;1;32m^\n",
      "\u001b[0m\u001b[1m/usr/local/include/LabTools.h:37:1: \u001b[0m\u001b[0;1;31merror: \u001b[0m\u001b[1mnamespaces can only be defined in global or namespace scope\u001b[0m\n",
      "{\n",
      "\u001b[0;1;32m^\n",
      "\u001b[0m\u001b[1m/usr/local/include/LabTools.h:43:1: \u001b[0m\u001b[0;1;31merror: \u001b[0m\u001b[1mnamespaces can only be defined in global or namespace scope\u001b[0m\n",
      "{\n",
      "\u001b[0;1;32m^\n",
      "\u001b[0m\u001b[1m/usr/local/include/LabTools.h:53:1: \u001b[0m\u001b[0;1;31merror: \u001b[0m\u001b[1mnamespaces can only be defined in global or namespace scope\u001b[0m\n",
      "{\n",
      "\u001b[0;1;32m^\n",
      "\u001b[0m"
     ]
    }
   ],
   "source": [
    "gInterpreter->AddIncludePath(\"/usr/local/include\");\n",
    "std::cout << gSystem->Load(\"/usr/local/lib/libErrorAnalysis\");\n",
    "std::cout << gSystem->Load(\"/usr/local/lib/libLabTools\");\n",
    "\n",
    "#include<vector>\n",
    "#include<cmath>\n",
    "#include<iostream>\n",
    "#include<fstream>\n",
    "#include<string>\n",
    "\n",
    "#include<TCanvas.h>\n",
    "#include<TGraphErrors.h>\n",
    "#include<TF1.h>\n",
    "#include<TStyle.h>\n",
    "#include<TAxis.h>\n",
    "#include<TMath.h>\n",
    "#include<TLatex.h>\n",
    "#include<TLegend.h>\n",
    "\n",
    "\n",
    "#include<ErrorAnalysis.h>\n",
    "#include<LabTools.h>"
   ]
  },
  {
   "cell_type": "code",
   "execution_count": null,
   "id": "fantastic-violin",
   "metadata": {},
   "outputs": [],
   "source": []
  }
 ],
 "metadata": {
  "kernelspec": {
   "display_name": "ROOT C++",
   "language": "c++",
   "name": "root"
  },
  "language_info": {
   "codemirror_mode": "text/x-c++src",
   "file_extension": ".C",
   "mimetype": " text/x-c++src",
   "name": "c++"
  }
 },
 "nbformat": 4,
 "nbformat_minor": 5
}
