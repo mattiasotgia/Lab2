{
 "cells": [
  {
   "cell_type": "markdown",
   "id": "occupied-anatomy",
   "metadata": {},
   "source": [
    "# Analisi dati relazione 2, esperienza 4\n",
    "_martedì 21 dicembre_\n"
   ]
  },
  {
   "cell_type": "markdown",
   "id": "prostate-herald",
   "metadata": {},
   "source": [
    "# Osservazioni sulle relazioni di laboratorio n. 1\n",
    "\n",
    "## Osservazioni sui fit\n",
    "\n",
    "Spesso ci affidiamo troppo al risultato del fit, trascurando l'effettivo risultato del fit, ovvero osservando i valori di $\\chi^2/\\text{ndf}$ e poi verificandone così la bontà.\n",
    "\n",
    "> Si può in effetti provare ad escludere alcuni punti da quelli utilizzati per esempi osservando che siano messi fuori dalla linea del fit.\n",
    "\n",
    "## Osservazioni sul fattore di merito\n",
    "\n",
    "Il fattore di merito $Q$ del circuito RLC si presentava come\n",
    "\n",
    "$$\n",
    "H(\\omega) = \\frac{R}{R+R_L + j\\left(\\omega L  \\frac{1}{\\omega C}\\right)}\n",
    "$$\n",
    "\n",
    "che riscrivendo in termini di modulo diventa necessariamente\n",
    "\n",
    "$$\n",
    "|H(\\omega)| = \\frac{1}{\\left(1+ \\frac{R}{R_L}\\right) + Q_{id}\\left(\\frac{\\omega}{\\omega_0}-\\frac{\\omega_0}{\\omega}\\right)}\n",
    "$$\n",
    "\n",
    "dove però il fattore di merito è un fattore di merito ideal, mantre osserviamo l'esistenza di un fattore di merito $Q_{reale}$ reale, che tiene conto delle caratteristiche di impedenza dell'induttanza, dove effettivamente il suo valore dipende da diversi fattori come\n",
    "\n",
    "$$\n",
    "Q_{reale} = \\frac{\\sqrt{L}}{R_{tot} \\sqrt{C}}\n",
    "$$\n",
    "\n",
    "dove $R_{tot}$ dipende da tutte le resistenze presenti nel circuito.\n",
    "\n",
    "> (Il modo di ovviare a questo problema forse lo possiamo trovare nel considerare $L_0$ come il valore di $L$ trovato non dai calcoli ma dal valore di $L_0$ misurato nel caso libero)\n",
    "\n",
    "## Osservazioni sui risultati ottenuti\n",
    "\n",
    "Utilizzare senso fisico per descrivere il fenomeno osservato.\n",
    "\n",
    "Rileggendo la relazione osservo che in effetti non sono forniste esaustive giustificazioni riguardo al valore di $\\mu_R \\text{(Al)}$ ottenuto ($\\mu_R\\text{(Al)} = 0.446(53)$) non corrisponde al modello (materiale paramagnetico)."
   ]
  },
  {
   "cell_type": "code",
   "execution_count": 5,
   "id": "false-council",
   "metadata": {},
   "outputs": [],
   "source": [
    "gInterpreter->AddIncludePath(\"/usr/local/include\");\n",
    "gSystem->Load(\"/usr/local/lib/libErrorAnalysis\");\n",
    "gSystem->Load(\"/usr/local/lib/libLabTools\");\n",
    "\n",
    "#include<vector>\n",
    "#include<cmath>\n",
    "#include<iostream>\n",
    "#include<fstream>\n",
    "#include<string>\n",
    "\n",
    "#include<TCanvas.h>\n",
    "#include<TGraphErrors.h>\n",
    "#include<TF1.h>\n",
    "#include<TStyle.h>\n",
    "#include<TAxis.h>\n",
    "#include<TMath.h>\n",
    "#include<TLatex.h>\n",
    "#include<TLegend.h>"
   ]
  },
  {
   "cell_type": "code",
   "execution_count": 2,
   "id": "fantastic-violin",
   "metadata": {},
   "outputs": [],
   "source": [
    "#include<ErrorAnalysis.h>\n",
    "#include<LabTools.h>"
   ]
  },
  {
   "cell_type": "code",
   "execution_count": 4,
   "id": "printable-major",
   "metadata": {},
   "outputs": [],
   "source": [
    "graphset::init();"
   ]
  }
 ],
 "metadata": {
  "kernelspec": {
   "display_name": "ROOT C++",
   "language": "c++",
   "name": "root"
  },
  "language_info": {
   "codemirror_mode": "text/x-c++src",
   "file_extension": ".C",
   "mimetype": " text/x-c++src",
   "name": "c++"
  }
 },
 "nbformat": 4,
 "nbformat_minor": 5
}
