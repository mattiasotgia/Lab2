{
 "cells": [
  {
   "cell_type": "code",
   "execution_count": 1,
   "id": "601810f9-f119-47a2-816a-ee746c4d620f",
   "metadata": {},
   "outputs": [],
   "source": [
    "gInterpreter->AddIncludePath(\"/usr/local/include\");\n",
    "gSystem->Load(\"/usr/local/lib/libErrorAnalysis\");\n",
    "gSystem->Load(\"/usr/local/lib/libLabTools\");"
   ]
  },
  {
   "cell_type": "code",
   "execution_count": 2,
   "id": "098a4c38-d300-49bb-9595-98bbdfe64494",
   "metadata": {},
   "outputs": [],
   "source": [
    "#include\"LabPlot.h\""
   ]
  },
  {
   "cell_type": "code",
   "execution_count": 3,
   "id": "0c5b6670-f863-4536-af9a-309e80771ec3",
   "metadata": {},
   "outputs": [
    {
     "name": "stdout",
     "output_type": "stream",
     "text": [
      "(const bool) true\n"
     ]
    }
   ],
   "source": [
    "is_base_of<TGraph, TGraphErrors>::value"
   ]
  },
  {
   "cell_type": "code",
   "execution_count": 4,
   "id": "90979c65-77b4-46a1-bc8f-ceec6585cfd8",
   "metadata": {},
   "outputs": [
    {
     "name": "stdout",
     "output_type": "stream",
     "text": [
      "\u001b[34;1mApplying ATLAS style settings\u001b[0m\n"
     ]
    }
   ],
   "source": [
    "set_atlas_style(15)"
   ]
  },
  {
   "cell_type": "code",
   "execution_count": 5,
   "id": "6ac23395-c69d-4d15-a0a0-ab079247fc65",
   "metadata": {},
   "outputs": [],
   "source": [
    "#include\"Logger.h\"\n",
    "using namespace Logger;"
   ]
  },
  {
   "cell_type": "code",
   "execution_count": 6,
   "id": "3e81a0fe-5622-49f3-ad76-5e13502216ae",
   "metadata": {},
   "outputs": [
    {
     "name": "stderr",
     "output_type": "stream",
     "text": [
      "\u001b[31;1merror:\u001b[0m test\n",
      "\u001b[31;1mwarning:\u001b[0m System_t option not recognised\n"
     ]
    }
   ],
   "source": [
    "fprintf(stderr, \"%s\", error(\"test\"));\n",
    "fprintf(stderr, \"%s\", Logger::warning(\"System_t option not recognised\"));\n"
   ]
  },
  {
   "cell_type": "code",
   "execution_count": null,
   "id": "322f2e5b-c1a0-4ad6-b91d-7a692b632876",
   "metadata": {},
   "outputs": [],
   "source": [
    "TCanvas *c1 = new TCanvas(\"\", \"\", 800, 1000);\n",
    "c1->Divide(1,2);\n",
    "ROOT::RDataFrame df(\"Events\", \"root://eospublic.cern.ch//eos/root-eos/cms_opendata_2012_nanoaod/Run2012C_DoubleMuParked.root\");    \n",
    "\n",
    "df.GetColumnNames()\n",
    "    "
   ]
  },
  {
   "cell_type": "code",
   "execution_count": null,
   "id": "7b86e496-ae45-49aa-8fc2-6cad17a361a6",
   "metadata": {},
   "outputs": [],
   "source": []
  },
  {
   "cell_type": "code",
   "execution_count": null,
   "id": "b70acb0f-f2e0-43db-b548-9d513f67b4e2",
   "metadata": {},
   "outputs": [],
   "source": [
    "auto df_2mu = df.Filter(\"nMuon == 3\", \"Events with exactly two muons\");\n",
    "auto df_os = df_2mu.Filter(\"Muon_charge[0] == Muon_charge[1]\", \"Muons with opposite charge\");"
   ]
  },
  {
   "cell_type": "code",
   "execution_count": null,
   "id": "8f5c92e9-fd46-4bad-985b-0ac980c951e1",
   "metadata": {},
   "outputs": [],
   "source": [
    "using Vec_t = const ROOT::VecOps::RVec<float> &;\n",
    "auto compute_mass = [](Vec_t pt, Vec_t eta, Vec_t phi, Vec_t mass) {\n",
    "    ROOT::Math::PtEtaPhiMVector p1(pt[0], eta[0], phi[0], mass[0]);\n",
    "    ROOT::Math::PtEtaPhiMVector p2(pt[1], eta[1], phi[1], mass[1]);\n",
    "    return (p1 + p2).mass();\n",
    "};\n",
    "auto df_mass = df_os.Define(\"Dimuon_mass\", compute_mass, {\"Muon_pt\", \"Muon_eta\", \"Muon_phi\", \"Muon_mass\"});"
   ]
  },
  {
   "cell_type": "code",
   "execution_count": null,
   "id": "05308d97-8ccb-4756-82b4-efdd0e6a3dba",
   "metadata": {},
   "outputs": [],
   "source": [
    "auto df_range = df_mass.Range(100000);\n"
   ]
  },
  {
   "cell_type": "code",
   "execution_count": null,
   "id": "fdfca4db-590a-482d-9fa0-3c8014abeb24",
   "metadata": {},
   "outputs": [],
   "source": [
    "const auto nbins = 30000;\n",
    "const auto low = 100;\n",
    "const auto up = 300;\n",
    "auto h = df_range.Histo1D({\"Dimuon_mass\", \"Dimuon_mass\", nbins, low, up}, \"Dimuon_mass\");\n",
    "\n",
    "auto h2 = df_2mu.Histo1D(\"nMuon\");"
   ]
  },
  {
   "cell_type": "code",
   "execution_count": 5,
   "id": "9ffaede4-7a92-4050-94e5-20e76be8916d",
   "metadata": {},
   "outputs": [],
   "source": [
    "#include\"Bode/Analysis.h\""
   ]
  },
  {
   "cell_type": "code",
   "execution_count": 7,
   "id": "ee59c37c-4eb1-4892-bae3-2f96c08a097b",
   "metadata": {},
   "outputs": [
    {
     "name": "stdout",
     "output_type": "stream",
     "text": [
      "\u001b[34;1mApplying ATLAS style settings\u001b[0m\n"
     ]
    },
    {
     "name": "stderr",
     "output_type": "stream",
     "text": [
      "\u001b[31;1mwarning:\u001b[0m System_t option test not recognised\n"
     ]
    }
   ],
   "source": [
    "Bode plot(\"test\");"
   ]
  },
  {
   "cell_type": "code",
   "execution_count": 9,
   "id": "f3a8be20-a5ef-4b27-974c-308d260d2fd0",
   "metadata": {},
   "outputs": [
    {
     "name": "stderr",
     "output_type": "stream",
     "text": [
      "\u001b[1minput_line_56:2:3: \u001b[0m\u001b[0;1;31merror: \u001b[0m\u001b[1muse of undeclared identifier 'c1'\u001b[0m\n",
      " (c1->cd(1))\n",
      "\u001b[0;1;32m  ^\n",
      "\u001b[0mError in <HandleInterpreterException>: Error evaluating expression (c1->cd(1)).\n",
      "Execution of your code was aborted.\n"
     ]
    }
   ],
   "source": [
    "%jsroot off\n",
    "c1->cd(1);\n",
    "h->Draw(\"hist\");\n",
    "h->SetTitle(\";m_{#mu#mu} (GeV);N_{Events}\");\n",
    "c1->cd(2);\n",
    "h2->Draw(\"hist\");\n",
    "c1->Draw();"
   ]
  },
  {
   "cell_type": "code",
   "execution_count": 15,
   "id": "fd6e492d-9946-43eb-8d0f-1dcaffb85687",
   "metadata": {},
   "outputs": [],
   "source": [
    "UInt_t Hash_t(std::string key){\n",
    "    UInt_t hashCode = 0;\n",
    "    const Int_t PRIME_CONST = 31;\n",
    "    Int_t keyLenght = key.length();\n",
    "    for (int i = 0; i < keyLenght; i++) {\n",
    "        hashCode += (Int_t)key[i] * pow(PRIME_CONST, i);\n",
    "    }\n",
    "    return hashCode;\n",
    "} // hashing"
   ]
  },
  {
   "cell_type": "code",
   "execution_count": 21,
   "id": "684d1c9c-a8da-4a75-a039-f92dab8b80f6",
   "metadata": {},
   "outputs": [
    {
     "name": "stdout",
     "output_type": "stream",
     "text": [
      "3137800801\n",
      "1519107549\n",
      "2359722562\n",
      "2363416646\n",
      "2354181436\n",
      "2015828545\n",
      "397135293\n",
      "3305439842\n",
      "3309133926\n",
      "3299898716\n",
      "\n"
     ]
    }
   ],
   "source": [
    "\n",
    "\n",
    "std::cout <<\n",
    "Hash_t(\"OP_AMP_HP\") << \"\\n\" <<\n",
    "Hash_t(\"OP_AMP_LP\") << \"\\n\" <<\n",
    "Hash_t(\"RLC_HP\") << \"\\n\" <<\n",
    "Hash_t(\"RLC_LP\") << \"\\n\" <<\n",
    "Hash_t(\"RLC_BP\") << \"\\n\" <<\n",
    "Hash_t(\"op_amp_hp\") << \"\\n\" <<\n",
    "Hash_t(\"op_amp_lp\") << \"\\n\" <<\n",
    "Hash_t(\"rlc_hp\") << \"\\n\" <<\n",
    "Hash_t(\"rlc_lp\") << \"\\n\" <<\n",
    "Hash_t(\"rlc_bp\") << \"\\n\" << std::endl;"
   ]
  },
  {
   "cell_type": "code",
   "execution_count": 22,
   "id": "3f76cf18-0036-440a-9390-c1632ccd5316",
   "metadata": {},
   "outputs": [
    {
     "name": "stdout",
     "output_type": "stream",
     "text": [
      "1991226620\n",
      "4138710268\n",
      "3899251227\n",
      "3899252251\n",
      "3899248667\n",
      "1982541912\n",
      "4130025560\n",
      "3966631483\n",
      "3966630459\n",
      "3966628923\n",
      "\n"
     ]
    }
   ],
   "source": [
    "TString OP_AMP_HP = \"OP_AMP_HP\";\n",
    "TString OP_AMP_LP = \"OP_AMP_LP\";\n",
    "TString RLC_HP    = \"RLC_HP\";\n",
    "TString RLC_LP    = \"RLC_LP\";\n",
    "TString RLC_BP    = \"RLC_BP\";\n",
    "TString op_amp_hp = \"op_amp_hp\";\n",
    "TString op_amp_lp = \"op_amp_lp\";\n",
    "TString rlc_hp    = \"rlc_hp\";\n",
    "TString rlc_lp    = \"rlc_lp\";\n",
    "TString rlc_bp    = \"rlc_bp\";\n",
    "\n",
    "std::cout <<\n",
    "OP_AMP_HP.Hash() << \"\\n\" <<\n",
    "OP_AMP_LP.Hash() << \"\\n\" <<\n",
    "RLC_HP.Hash() << \"\\n\" <<\n",
    "RLC_LP.Hash() << \"\\n\" <<\n",
    "RLC_BP.Hash() << \"\\n\" <<\n",
    "op_amp_hp.Hash() << \"\\n\" <<\n",
    "op_amp_lp.Hash() << \"\\n\" <<\n",
    "rlc_hp.Hash() << \"\\n\" <<\n",
    "rlc_lp.Hash() << \"\\n\" <<\n",
    "rlc_bp.Hash() << \"\\n\" << std::endl;"
   ]
  },
  {
   "cell_type": "code",
   "execution_count": 23,
   "id": "1c4730a2-dce2-4cd2-a8a7-3c532510e16e",
   "metadata": {},
   "outputs": [
    {
     "name": "stdout",
     "output_type": "stream",
     "text": [
      "(const char *) \"op_amp_hp\"\n"
     ]
    }
   ],
   "source": [
    "op_amp_hp.Data()\n",
    "    "
   ]
  },
  {
   "cell_type": "code",
   "execution_count": null,
   "id": "0a40b437-4875-4ac9-a2e5-73183ca5e557",
   "metadata": {},
   "outputs": [],
   "source": []
  }
 ],
 "metadata": {
  "kernelspec": {
   "display_name": "ROOT C++",
   "language": "c++",
   "name": "root"
  },
  "language_info": {
   "codemirror_mode": "text/x-c++src",
   "file_extension": ".C",
   "mimetype": " text/x-c++src",
   "name": "c++"
  }
 },
 "nbformat": 4,
 "nbformat_minor": 5
}
