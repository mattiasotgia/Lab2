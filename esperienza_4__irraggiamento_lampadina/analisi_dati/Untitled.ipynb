{
 "cells": [
  {
   "cell_type": "code",
   "execution_count": 1,
   "id": "601810f9-f119-47a2-816a-ee746c4d620f",
   "metadata": {},
   "outputs": [],
   "source": [
    "gInterpreter->AddIncludePath(\"/usr/local/include\");\n",
    "gSystem->Load(\"/usr/local/lib/libErrorAnalysis\");\n",
    "gSystem->Load(\"/usr/local/lib/libLabTools\");"
   ]
  },
  {
   "cell_type": "code",
   "execution_count": 2,
   "id": "098a4c38-d300-49bb-9595-98bbdfe64494",
   "metadata": {},
   "outputs": [],
   "source": [
    "#include\"LabPlot.h\""
   ]
  },
  {
   "cell_type": "code",
   "execution_count": 3,
   "id": "0c5b6670-f863-4536-af9a-309e80771ec3",
   "metadata": {},
   "outputs": [
    {
     "name": "stdout",
     "output_type": "stream",
     "text": [
      "(const bool) true\n"
     ]
    }
   ],
   "source": [
    "is_base_of<TGraph, TGraphErrors>::value"
   ]
  },
  {
   "cell_type": "code",
   "execution_count": 4,
   "id": "90979c65-77b4-46a1-bc8f-ceec6585cfd8",
   "metadata": {},
   "outputs": [
    {
     "name": "stdout",
     "output_type": "stream",
     "text": [
      "\u001b[34;1mApplying ATLAS style settings\u001b[0m\n"
     ]
    }
   ],
   "source": [
    "set_atlas_style()"
   ]
  },
  {
   "cell_type": "code",
   "execution_count": 5,
   "id": "6ac23395-c69d-4d15-a0a0-ab079247fc65",
   "metadata": {},
   "outputs": [],
   "source": [
    "#include\"Logger.h\""
   ]
  },
  {
   "cell_type": "code",
   "execution_count": 7,
   "id": "3e81a0fe-5622-49f3-ad76-5e13502216ae",
   "metadata": {},
   "outputs": [
    {
     "name": "stdout",
     "output_type": "stream",
     "text": [
      "(int) 23\n"
     ]
    },
    {
     "name": "stderr",
     "output_type": "stream",
     "text": [
      "\u001b[31;1merror:\u001b[0m test\n"
     ]
    }
   ],
   "source": [
    "fprintf(stderr, \"%s\", Logger::error(\"test\"))"
   ]
  },
  {
   "cell_type": "code",
   "execution_count": null,
   "id": "322f2e5b-c1a0-4ad6-b91d-7a692b632876",
   "metadata": {},
   "outputs": [],
   "source": []
  }
 ],
 "metadata": {
  "kernelspec": {
   "display_name": "ROOT C++",
   "language": "c++",
   "name": "root"
  },
  "language_info": {
   "codemirror_mode": "text/x-c++src",
   "file_extension": ".C",
   "mimetype": " text/x-c++src",
   "name": "c++"
  }
 },
 "nbformat": 4,
 "nbformat_minor": 5
}
