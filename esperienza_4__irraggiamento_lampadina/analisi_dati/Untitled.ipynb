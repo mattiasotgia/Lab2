{
 "cells": [
  {
   "cell_type": "code",
   "execution_count": null,
   "id": "601810f9-f119-47a2-816a-ee746c4d620f",
   "metadata": {},
   "outputs": [],
   "source": [
    "gInterpreter->AddIncludePath(\"/usr/local/include\");\n",
    "gSystem->Load(\"/usr/local/lib/libErrorAnalysis\");\n",
    "gSystem->Load(\"/usr/local/lib/libLabTools\");"
   ]
  },
  {
   "cell_type": "code",
   "execution_count": null,
   "id": "098a4c38-d300-49bb-9595-98bbdfe64494",
   "metadata": {},
   "outputs": [],
   "source": [
    "#include\"LabPlot.h\""
   ]
  },
  {
   "cell_type": "code",
   "execution_count": null,
   "id": "0c5b6670-f863-4536-af9a-309e80771ec3",
   "metadata": {},
   "outputs": [],
   "source": [
    "is_base_of<TGraph, TGraphErrors>::value"
   ]
  },
  {
   "cell_type": "code",
   "execution_count": null,
   "id": "90979c65-77b4-46a1-bc8f-ceec6585cfd8",
   "metadata": {},
   "outputs": [],
   "source": [
    "set_atlas_style(15)"
   ]
  },
  {
   "cell_type": "code",
   "execution_count": null,
   "id": "6ac23395-c69d-4d15-a0a0-ab079247fc65",
   "metadata": {},
   "outputs": [],
   "source": [
    "#include\"Logger.h\"\n",
    "using namespace Logger;"
   ]
  },
  {
   "cell_type": "code",
   "execution_count": null,
   "id": "3e81a0fe-5622-49f3-ad76-5e13502216ae",
   "metadata": {},
   "outputs": [],
   "source": [
    "fprintf(stderr, \"%s\", error(\"test\"))"
   ]
  },
  {
   "cell_type": "code",
   "execution_count": null,
   "id": "322f2e5b-c1a0-4ad6-b91d-7a692b632876",
   "metadata": {},
   "outputs": [],
   "source": [
    "TCanvas *c1 = new TCanvas(\"\", \"\", 800, 1000);\n",
    "c1->Divide(1,2);\n",
    "ROOT::RDataFrame df(\"Events\", \"root://eospublic.cern.ch//eos/root-eos/cms_opendata_2012_nanoaod/Run2012C_DoubleMuParked.root\");    \n",
    "\n",
    "df.GetColumnNames()\n",
    "    "
   ]
  },
  {
   "cell_type": "code",
   "execution_count": null,
   "id": "7b86e496-ae45-49aa-8fc2-6cad17a361a6",
   "metadata": {},
   "outputs": [],
   "source": []
  },
  {
   "cell_type": "code",
   "execution_count": null,
   "id": "b70acb0f-f2e0-43db-b548-9d513f67b4e2",
   "metadata": {},
   "outputs": [],
   "source": [
    "auto df_2mu = df.Filter(\"nMuon == 3\", \"Events with exactly two muons\");\n",
    "auto df_os = df_2mu.Filter(\"Muon_charge[0] == Muon_charge[1]\", \"Muons with opposite charge\");"
   ]
  },
  {
   "cell_type": "code",
   "execution_count": null,
   "id": "8f5c92e9-fd46-4bad-985b-0ac980c951e1",
   "metadata": {},
   "outputs": [],
   "source": [
    "using Vec_t = const ROOT::VecOps::RVec<float> &;\n",
    "auto compute_mass = [](Vec_t pt, Vec_t eta, Vec_t phi, Vec_t mass) {\n",
    "    ROOT::Math::PtEtaPhiMVector p1(pt[0], eta[0], phi[0], mass[0]);\n",
    "    ROOT::Math::PtEtaPhiMVector p2(pt[1], eta[1], phi[1], mass[1]);\n",
    "    return (p1 + p2).mass();\n",
    "};\n",
    "auto df_mass = df_os.Define(\"Dimuon_mass\", compute_mass, {\"Muon_pt\", \"Muon_eta\", \"Muon_phi\", \"Muon_mass\"});"
   ]
  },
  {
   "cell_type": "code",
   "execution_count": null,
   "id": "05308d97-8ccb-4756-82b4-efdd0e6a3dba",
   "metadata": {},
   "outputs": [],
   "source": [
    "auto df_range = df_mass.Range(100000);\n"
   ]
  },
  {
   "cell_type": "code",
   "execution_count": null,
   "id": "fdfca4db-590a-482d-9fa0-3c8014abeb24",
   "metadata": {},
   "outputs": [],
   "source": [
    "const auto nbins = 30000;\n",
    "const auto low = 100;\n",
    "const auto up = 300;\n",
    "auto h = df_range.Histo1D({\"Dimuon_mass\", \"Dimuon_mass\", nbins, low, up}, \"Dimuon_mass\");\n",
    "\n",
    "auto h2 = df_2mu.Histo1D(\"nMuon\");"
   ]
  },
  {
   "cell_type": "code",
   "execution_count": null,
   "id": "9ffaede4-7a92-4050-94e5-20e76be8916d",
   "metadata": {},
   "outputs": [],
   "source": []
  },
  {
   "cell_type": "code",
   "execution_count": null,
   "id": "f3a8be20-a5ef-4b27-974c-308d260d2fd0",
   "metadata": {},
   "outputs": [],
   "source": [
    "%jsroot off\n",
    "c1->cd(1);\n",
    "h->Draw(\"hist\");\n",
    "h->SetTitle(\";m_{#mu#mu} (GeV);N_{Events}\");\n",
    "c1->cd(2);\n",
    "h2->Draw(\"hist\");\n",
    "c1->Draw();"
   ]
  },
  {
   "cell_type": "code",
   "execution_count": null,
   "id": "3f76cf18-0036-440a-9390-c1632ccd5316",
   "metadata": {},
   "outputs": [],
   "source": []
  }
 ],
 "metadata": {
  "kernelspec": {
   "display_name": "ROOT C++",
   "language": "c++",
   "name": "root"
  },
  "language_info": {
   "codemirror_mode": "text/x-c++src",
   "file_extension": ".C",
   "mimetype": " text/x-c++src",
   "name": "c++"
  }
 },
 "nbformat": 4,
 "nbformat_minor": 5
}
