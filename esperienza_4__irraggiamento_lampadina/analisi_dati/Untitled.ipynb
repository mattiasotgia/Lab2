{
 "cells": [
  {
   "cell_type": "code",
   "execution_count": 1,
   "id": "601810f9-f119-47a2-816a-ee746c4d620f",
   "metadata": {},
   "outputs": [],
   "source": [
    "gInterpreter->AddIncludePath(\"/usr/local/include\");\n",
    "gSystem->Load(\"/usr/local/lib/libErrorAnalysis\");\n",
    "gSystem->Load(\"/usr/local/lib/libLabTools\");"
   ]
  },
  {
   "cell_type": "code",
   "execution_count": 2,
   "id": "098a4c38-d300-49bb-9595-98bbdfe64494",
   "metadata": {},
   "outputs": [],
   "source": [
    "#include\"LabPlot.h\""
   ]
  },
  {
   "cell_type": "code",
   "execution_count": 8,
   "id": "0c5b6670-f863-4536-af9a-309e80771ec3",
   "metadata": {},
   "outputs": [
    {
     "name": "stdout",
     "output_type": "stream",
     "text": [
      "(const bool) false\n"
     ]
    }
   ],
   "source": [
    "is_base_of<TH1, TGraphErrors>::value"
   ]
  },
  {
   "cell_type": "code",
   "execution_count": null,
   "id": "90979c65-77b4-46a1-bc8f-ceec6585cfd8",
   "metadata": {},
   "outputs": [],
   "source": []
  }
 ],
 "metadata": {
  "kernelspec": {
   "display_name": "ROOT C++",
   "language": "c++",
   "name": "root"
  },
  "language_info": {
   "codemirror_mode": "text/x-c++src",
   "file_extension": ".C",
   "mimetype": " text/x-c++src",
   "name": "c++"
  }
 },
 "nbformat": 4,
 "nbformat_minor": 5
}
