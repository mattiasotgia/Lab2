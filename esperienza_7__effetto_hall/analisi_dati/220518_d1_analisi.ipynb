{
 "cells": [
  {
   "cell_type": "markdown",
   "id": "eca9b1c4-c912-45f6-bd70-fa9b65abc9ca",
   "metadata": {},
   "source": [
    "# Analisi dati preliminare, 18 maggio 2022\n",
    "La funzione del plot è $$V_H = \\frac{iB}{wen}\\tag{1}$$\n",
    "\n",
    "Misura del numero di portatori di carica: vogliamo ottenere una misura di $n$, quindi ci serve sapere "
   ]
  },
  {
   "cell_type": "code",
   "execution_count": 1,
   "id": "16a08159-e0d3-4b0a-b7c5-46b3f3740955",
   "metadata": {},
   "outputs": [
    {
     "name": "stdout",
     "output_type": "stream",
     "text": [
      "Welcome to JupyROOT 6.24/02\n"
     ]
    }
   ],
   "source": [
    "import ROOT as root\n",
    "import numpy as np\n",
    "import matplotlib as mpl\n",
    "import matplotlib.pyplot as plt\n",
    "\n"
   ]
  },
  {
   "cell_type": "code",
   "execution_count": 58,
   "id": "08d6eab0-6b9a-4ef6-8e5d-c85760abea8d",
   "metadata": {},
   "outputs": [],
   "source": [
    "_file0 = open('../dati/data_dump_CHEPALLE.txt')\n",
    "\n",
    "#full[2]\n",
    "\n",
    "M=12\n",
    "N=100\n",
    "\n",
    "BPOS_V_gen_lo = np.zeros((12,100))\n",
    "BPOS_V_gen_hi = np.zeros((12,100))\n",
    "BPOS_V_out_lo = np.zeros((12,100))\n",
    "BPOS_V_out_hi = np.zeros((12,100))\n",
    "\n",
    "BNEG_V_gen_lo = np.zeros((12,100))\n",
    "BNEG_V_gen_hi = np.zeros((12,100))\n",
    "BNEG_V_out_lo = np.zeros((12,100))\n",
    "BNEG_V_out_hi = np.zeros((12,100))\n",
    "\n",
    "_file0.readline()#run\n",
    "_file0.readline()#bpos\n",
    "for i in range(M):\n",
    "    _file0.readline()#cyclestart\n",
    "    _file0.readline()#i:0\n",
    "    for j in range(N):\n",
    "        BPOS_V_gen_hi[i][j] = np.float64(_file0.readline())\n",
    "        BPOS_V_out_hi[i][j] = np.float64(_file0.readline())\n",
    "        BPOS_V_gen_lo[i][j] = np.float64(_file0.readline())\n",
    "        BPOS_V_out_lo[i][j] = np.float64(_file0.readline())\n",
    "    _file0.readline()\n",
    "\n",
    "_file0.readline()\n",
    "_file0.readline()#bneg\n",
    "for i in range(M):\n",
    "    _file0.readline()#cyclestart\n",
    "    _file0.readline()#i:0\n",
    "    for j in range(N):\n",
    "        BNEG_V_gen_hi[i][j] = np.float64(_file0.readline())\n",
    "        BNEG_V_out_hi[i][j] = np.float64(_file0.readline())\n",
    "        BNEG_V_gen_lo[i][j] = np.float64(_file0.readline())\n",
    "        BNEG_V_out_lo[i][j] = np.float64(_file0.readline())\n",
    "    _file0.readline()\n",
    "            \n",
    "\n",
    "        \n",
    "## Avg\n",
    "\n",
    "BPOS_V_gen_lo_avg = np.array([BPOS_V_gen_lo[i].mean() for i in range(M)])\n",
    "BPOS_V_gen_hi_avg = np.array([BPOS_V_gen_hi[i].mean() for i in range(M)])\n",
    "BPOS_V_out_lo_avg = np.array([BPOS_V_out_lo[i].mean() for i in range(M)])\n",
    "BPOS_V_out_hi_avg = np.array([BPOS_V_out_hi[i].mean() for i in range(M)])\n",
    "\n",
    "BNEG_V_gen_lo_avg = np.array([BNEG_V_gen_lo[i].mean() for i in range(M)])\n",
    "BNEG_V_gen_hi_avg = np.array([BNEG_V_gen_hi[i].mean() for i in range(M)])\n",
    "BNEG_V_out_lo_avg = np.array([BNEG_V_out_lo[i].mean() for i in range(M)])\n",
    "BNEG_V_out_hi_avg = np.array([BNEG_V_out_hi[i].mean() for i in range(M)])\n",
    "\n",
    "\n",
    "## Std Dev\n",
    "\n",
    "BPOS_V_gen_lo_std = np.array([BPOS_V_gen_lo[i].std() for i in range(M)])\n",
    "BPOS_V_gen_hi_std = np.array([BPOS_V_gen_hi[i].std() for i in range(M)])\n",
    "BPOS_V_out_lo_std = np.array([BPOS_V_out_lo[i].std() for i in range(M)])\n",
    "BPOS_V_out_hi_std = np.array([BPOS_V_out_hi[i].std() for i in range(M)])\n",
    "\n",
    "BNEG_V_gen_lo_std = np.array([BNEG_V_gen_lo[i].std() for i in range(M)])\n",
    "BNEG_V_gen_hi_std = np.array([BNEG_V_gen_hi[i].std() for i in range(M)])\n",
    "BNEG_V_out_lo_std = np.array([BNEG_V_out_lo[i].std() for i in range(M)])\n",
    "BNEG_V_out_hi_std = np.array([BNEG_V_out_hi[i].std() for i in range(M)])"
   ]
  },
  {
   "cell_type": "code",
   "execution_count": 62,
   "id": "2133e23e-6746-4282-b8b3-8aa9907aee98",
   "metadata": {},
   "outputs": [],
   "source": [
    "\n",
    "BPOS_V_gen = BPOS_V_gen_hi_avg-BPOS_V_gen_lo_avg\n",
    "BPOS_V_out = BPOS_V_out_hi_avg-BPOS_V_out_lo_avg\n",
    "\n",
    "BNEG_V_gen = BNEG_V_gen_hi_avg-BNEG_V_gen_lo_avg\n",
    "BNEG_V_out = BNEG_V_out_hi_avg-BNEG_V_out_lo_avg\n",
    "\n",
    "BPOS_V_gen_std = np.sqrt(BPOS_V_gen_hi_std**2 + BPOS_V_gen_lo_std**2)\n",
    "BPOS_V_out_std = np.sqrt(BPOS_V_out_hi_std**2 + BPOS_V_out_lo_std**2)\n",
    "\n",
    "BNEG_V_gen_std = np.sqrt(BNEG_V_gen_hi_std**2 + BNEG_V_gen_lo_std**2)\n",
    "BNEG_V_out_std = np.sqrt(BNEG_V_out_hi_std**2 + BNEG_V_out_lo_std**2)"
   ]
  },
  {
   "cell_type": "code",
   "execution_count": 85,
   "id": "bfc941ad-5a55-4970-9f4a-cdbc5974942a",
   "metadata": {},
   "outputs": [],
   "source": [
    "GVH = (BPOS_V_out+BNEG_V_out)/2\n",
    "GVH_std = 0.5*np.sqrt(BPOS_V_out_std**2 + BNEG_V_out_std**2)"
   ]
  },
  {
   "cell_type": "code",
   "execution_count": 86,
   "id": "96a57895-1356-4f71-a171-418fb3606e9d",
   "metadata": {},
   "outputs": [
    {
     "data": {
      "text/plain": [
       "(array([0.33995601, 0.33594819, 0.3313783 , 0.32644183, 0.32192082,\n",
       "        0.3173998 , 0.31361193, 0.30860215, 0.30422777, 0.29953568,\n",
       "        0.29503909, 0.29081132]),\n",
       " array([0.00230275, 0.00253672, 0.00250748, 0.00252977, 0.0024646 ,\n",
       "        0.00248619, 0.00236569, 0.00258141, 0.00271987, 0.0025126 ,\n",
       "        0.00264912, 0.00256749]))"
      ]
     },
     "execution_count": 86,
     "metadata": {},
     "output_type": "execute_result"
    }
   ],
   "source": [
    "GVH, GVH_std"
   ]
  },
  {
   "cell_type": "code",
   "execution_count": 91,
   "id": "d063b26c-4238-4c86-9818-3ee3f405911e",
   "metadata": {},
   "outputs": [
    {
     "data": {
      "text/plain": [
       "<ErrorbarContainer object of 3 artists>"
      ]
     },
     "execution_count": 91,
     "metadata": {},
     "output_type": "execute_result"
    },
    {
     "data": {
      "image/png": "[encoded data removed]",
      "text/plain": [
       "<Figure size 432x288 with 1 Axes>"
      ]
     },
     "metadata": {
      "needs_background": "light"
     },
     "output_type": "display_data"
    }
   ],
   "source": [
    "plt.errorbar(x=[-i/10 for i in range(12)], y=BPOS_V_out, yerr=BPOS_V_out_std,fmt='o')\n",
    "plt.errorbar(x=[-i/10 for i in range(12)], y=BNEG_V_out, yerr=BNEG_V_out_std,fmt='o')\n",
    "plt.errorbar(x=[-i/10 for i in range(12)], y=GVH, yerr=GVH_std,fmt='o')"
   ]
  },
  {
   "cell_type": "code",
   "execution_count": 90,
   "id": "3e4f0fe7-f2f3-4d48-b516-a77797d686b7",
   "metadata": {},
   "outputs": [
    {
     "data": {
      "text/plain": [
       "<ErrorbarContainer object of 3 artists>"
      ]
     },
     "execution_count": 90,
     "metadata": {},
     "output_type": "execute_result"
    },
    {
     "data": {
      "image/png": "[encoded data removed]",
      "text/plain": [
       "<Figure size 432x288 with 1 Axes>"
      ]
     },
     "metadata": {
      "needs_background": "light"
     },
     "output_type": "display_data"
    }
   ],
   "source": [
    "GVH_long = (BPOS_V_out-BNEG_V_out)/2\n",
    "GVH_std_long = 0.5*np.sqrt(BPOS_V_out_std**2 + BNEG_V_out_std**2)\n",
    "\n",
    "plt.errorbar(x=[-i/10 for i in range(12)], y=GVH_long, yerr=GVH_std_long,fmt='o')"
   ]
  },
  {
   "cell_type": "code",
   "execution_count": null,
   "id": "4079ac7d-f58d-4499-baae-7c5d52e10dd2",
   "metadata": {},
   "outputs": [],
   "source": []
  }
 ],
 "metadata": {
  "kernelspec": {
   "display_name": "Python 3",
   "language": "python",
   "name": "python3"
  },
  "language_info": {
   "codemirror_mode": {
    "name": "ipython",
    "version": 3
   },
   "file_extension": ".py",
   "mimetype": "text/x-python",
   "name": "python",
   "nbconvert_exporter": "python",
   "pygments_lexer": "ipython3",
   "version": "3.9.12"
  }
 },
 "nbformat": 4,
 "nbformat_minor": 5
}
