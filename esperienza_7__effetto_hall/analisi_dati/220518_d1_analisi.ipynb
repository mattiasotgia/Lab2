{
 "cells": [
  {
   "cell_type": "markdown",
   "id": "eca9b1c4-c912-45f6-bd70-fa9b65abc9ca",
   "metadata": {
    "tags": []
   },
   "source": [
    "# Analisi dati preliminare, 18 maggio 2022\n",
    "La funzione del plot è $$V_H = \\frac{iB}{wen}\\tag{1}$$\n",
    "\n",
    "Misura del numero di portatori di carica: vogliamo ottenere una misura di $n$, quindi ci serve sapere "
   ]
  },
  {
   "cell_type": "code",
   "execution_count": 9,
   "id": "16a08159-e0d3-4b0a-b7c5-46b3f3740955",
   "metadata": {},
   "outputs": [],
   "source": [
    "import ROOT as root\n",
    "import numpy as np\n",
    "import matplotlib as mpl\n",
    "import matplotlib.pyplot as plt\n",
    "\n"
   ]
  },
  {
   "cell_type": "code",
   "execution_count": 10,
   "id": "08d6eab0-6b9a-4ef6-8e5d-c85760abea8d",
   "metadata": {},
   "outputs": [],
   "source": [
    "_file0 = open('../dati/data_dump_CHEPALLE.txt')\n",
    "\n",
    "#full[2]\n",
    "\n",
    "M=12\n",
    "N=100\n",
    "\n",
    "BPOS_V_gen_lo = np.zeros((12,100))\n",
    "BPOS_V_gen_hi = np.zeros((12,100))\n",
    "BPOS_V_out_lo = np.zeros((12,100))\n",
    "BPOS_V_out_hi = np.zeros((12,100))\n",
    "\n",
    "BNEG_V_gen_lo = np.zeros((12,100))\n",
    "BNEG_V_gen_hi = np.zeros((12,100))\n",
    "BNEG_V_out_lo = np.zeros((12,100))\n",
    "BNEG_V_out_hi = np.zeros((12,100))\n",
    "\n",
    "_file0.readline()#run\n",
    "_file0.readline()#bpos\n",
    "for i in range(M):\n",
    "    _file0.readline()#cyclestart\n",
    "    _file0.readline()#i:0\n",
    "    for j in range(N):\n",
    "        BPOS_V_gen_hi[i][j] = np.float64(_file0.readline())\n",
    "        BPOS_V_out_hi[i][j] = np.float64(_file0.readline())\n",
    "        BPOS_V_gen_lo[i][j] = np.float64(_file0.readline())\n",
    "        BPOS_V_out_lo[i][j] = np.float64(_file0.readline())\n",
    "    _file0.readline()\n",
    "\n",
    "_file0.readline()\n",
    "_file0.readline()#bneg\n",
    "for i in range(M):\n",
    "    _file0.readline()#cyclestart\n",
    "    _file0.readline()#i:0\n",
    "    for j in range(N):\n",
    "        BNEG_V_gen_hi[i][j] = np.float64(_file0.readline())\n",
    "        BNEG_V_out_hi[i][j] = np.float64(_file0.readline())\n",
    "        BNEG_V_gen_lo[i][j] = np.float64(_file0.readline())\n",
    "        BNEG_V_out_lo[i][j] = np.float64(_file0.readline())\n",
    "    _file0.readline()\n",
    "            \n",
    "\n",
    "        \n",
    "## Avg\n",
    "\n",
    "BPOS_V_gen_lo_avg = np.array([BPOS_V_gen_lo[i].mean() for i in range(M)])\n",
    "BPOS_V_gen_hi_avg = np.array([BPOS_V_gen_hi[i].mean() for i in range(M)])\n",
    "BPOS_V_out_lo_avg = np.array([BPOS_V_out_lo[i].mean() for i in range(M)])\n",
    "BPOS_V_out_hi_avg = np.array([BPOS_V_out_hi[i].mean() for i in range(M)])\n",
    "\n",
    "BNEG_V_gen_lo_avg = np.array([BNEG_V_gen_lo[i].mean() for i in range(M)])\n",
    "BNEG_V_gen_hi_avg = np.array([BNEG_V_gen_hi[i].mean() for i in range(M)])\n",
    "BNEG_V_out_lo_avg = np.array([BNEG_V_out_lo[i].mean() for i in range(M)])\n",
    "BNEG_V_out_hi_avg = np.array([BNEG_V_out_hi[i].mean() for i in range(M)])\n",
    "\n",
    "\n",
    "## Std Dev\n",
    "\n",
    "BPOS_V_gen_lo_std = np.array([BPOS_V_gen_lo[i].std() for i in range(M)])\n",
    "BPOS_V_gen_hi_std = np.array([BPOS_V_gen_hi[i].std() for i in range(M)])\n",
    "BPOS_V_out_lo_std = np.array([BPOS_V_out_lo[i].std() for i in range(M)])\n",
    "BPOS_V_out_hi_std = np.array([BPOS_V_out_hi[i].std() for i in range(M)])\n",
    "\n",
    "BNEG_V_gen_lo_std = np.array([BNEG_V_gen_lo[i].std() for i in range(M)])\n",
    "BNEG_V_gen_hi_std = np.array([BNEG_V_gen_hi[i].std() for i in range(M)])\n",
    "BNEG_V_out_lo_std = np.array([BNEG_V_out_lo[i].std() for i in range(M)])\n",
    "BNEG_V_out_hi_std = np.array([BNEG_V_out_hi[i].std() for i in range(M)])"
   ]
  },
  {
   "cell_type": "code",
   "execution_count": 11,
   "id": "2133e23e-6746-4282-b8b3-8aa9907aee98",
   "metadata": {},
   "outputs": [],
   "source": [
    "\n",
    "BPOS_V_gen = BPOS_V_gen_hi_avg-BPOS_V_gen_lo_avg\n",
    "BPOS_V_out = BPOS_V_out_hi_avg-BPOS_V_out_lo_avg\n",
    "\n",
    "BNEG_V_gen = BNEG_V_gen_hi_avg-BNEG_V_gen_lo_avg\n",
    "BNEG_V_out = BNEG_V_out_hi_avg-BNEG_V_out_lo_avg\n",
    "\n",
    "BPOS_V_gen_std = np.sqrt(BPOS_V_gen_hi_std**2 + BPOS_V_gen_lo_std**2)\n",
    "BPOS_V_out_std = np.sqrt(BPOS_V_out_hi_std**2 + BPOS_V_out_lo_std**2)\n",
    "\n",
    "BNEG_V_gen_std = np.sqrt(BNEG_V_gen_hi_std**2 + BNEG_V_gen_lo_std**2)\n",
    "BNEG_V_out_std = np.sqrt(BNEG_V_out_hi_std**2 + BNEG_V_out_lo_std**2)"
   ]
  },
  {
   "cell_type": "code",
   "execution_count": 25,
   "id": "bfc941ad-5a55-4970-9f4a-cdbc5974942a",
   "metadata": {},
   "outputs": [],
   "source": [
    "GVH = (BPOS_V_out+BNEG_V_out)/2\n",
    "GVH_std = 0.5*np.sqrt(BPOS_V_out_std**2 + BNEG_V_out_std**2)"
   ]
  },
  {
   "cell_type": "code",
   "execution_count": 26,
   "id": "96a57895-1356-4f71-a171-418fb3606e9d",
   "metadata": {},
   "outputs": [
    {
     "data": {
      "text/plain": [
       "(array([0.33995601, 0.33594819, 0.3313783 , 0.32644183, 0.32192082,\n",
       "        0.3173998 , 0.31361193, 0.30860215, 0.30422777, 0.29953568,\n",
       "        0.29503909, 0.29081132]),\n",
       " array([0.00230275, 0.00253672, 0.00250748, 0.00252977, 0.0024646 ,\n",
       "        0.00248619, 0.00236569, 0.00258141, 0.00271987, 0.0025126 ,\n",
       "        0.00264912, 0.00256749]))"
      ]
     },
     "execution_count": 26,
     "metadata": {},
     "output_type": "execute_result"
    }
   ],
   "source": [
    "GVH, GVH_std"
   ]
  },
  {
   "cell_type": "code",
   "execution_count": 37,
   "id": "d063b26c-4238-4c86-9818-3ee3f405911e",
   "metadata": {},
   "outputs": [
    {
     "data": {
      "text/plain": [
       "<matplotlib.legend.Legend at 0x137faf430>"
      ]
     },
     "execution_count": 37,
     "metadata": {},
     "output_type": "execute_result"
    },
    {
     "data": {
      "image/png": "[encoded data removed]",
      "text/plain": [
       "<Figure size 432x288 with 1 Axes>"
      ]
     },
     "metadata": {
      "needs_background": "light"
     },
     "output_type": "display_data"
    }
   ],
   "source": [
    "plt.errorbar(x=[-i/10 for i in range(12)], y=BPOS_V_out, yerr=BPOS_V_out_std,fmt='o', label='BPOS')\n",
    "plt.errorbar(x=[-i/10 for i in range(12)], y=BNEG_V_out, yerr=BNEG_V_out_std,fmt='o', label='BNEG')\n",
    "plt.errorbar(x=[-i/10 for i in range(12)], y=GVH, yerr=GVH_std,fmt='o', label='GVH')\n",
    "plt.legend()"
   ]
  },
  {
   "cell_type": "code",
   "execution_count": 39,
   "id": "3e4f0fe7-f2f3-4d48-b516-a77797d686b7",
   "metadata": {},
   "outputs": [
    {
     "data": {
      "text/plain": [
       "<ErrorbarContainer object of 3 artists>"
      ]
     },
     "execution_count": 39,
     "metadata": {},
     "output_type": "execute_result"
    },
    {
     "data": {
      "image/png": "[encoded data removed]",
      "text/plain": [
       "<Figure size 432x288 with 1 Axes>"
      ]
     },
     "metadata": {
      "needs_background": "light"
     },
     "output_type": "display_data"
    }
   ],
   "source": [
    "GVH_long = (BPOS_V_out-BNEG_V_out)/2\n",
    "GVH_std_long = 0.5*np.sqrt(BPOS_V_out_std**2 + BNEG_V_out_std**2)\n",
    "\n",
    "plt.errorbar(x=[-i/10 for i in range(12)], y=GVH_long, yerr=GVH_std_long,fmt='o')"
   ]
  },
  {
   "cell_type": "code",
   "execution_count": null,
   "id": "94987fd8-1739-44c2-bcb3-56d4c0d7cc8b",
   "metadata": {},
   "outputs": [],
   "source": []
  },
  {
   "cell_type": "markdown",
   "id": "53f535d2-9bc1-4af9-a921-b0adb83506e2",
   "metadata": {},
   "source": [
    "**Domanda sui dati ottenuti**\n",
    "Perchè i dati che abbiamo ottenuto non risultano essere positivi rispetto alle correnti? ricontrollare in che modo abbiamo raccolto le correnti per i campi magnetici BPOS e BNEG"
   ]
  },
  {
   "cell_type": "markdown",
   "id": "9b522100-72f4-4062-8b4d-8271a846017a",
   "metadata": {
    "tags": []
   },
   "source": [
    "### Possibile interpretazione fisica del fenomeno che si è osservato\n",
    "\n",
    "Abbiamo impostato la corrente inizialmente a 1.3 A, poi abbiamo decrementato la corrente con DELTAI 0.1A, quindi passando in 12 punti da 1.3 (1.299 da lettura reale del display dello strumento) a 0.1 A finali. Abbiamo poi invertito i cavi, quindi la corrente è incrementata da 0.1 A a 1.3 A. \n",
    "\n",
    "\n",
    "Abbiamo quindi che in realtà i due array BPOS e BNEG dei valori di V_out vanno presi uno al contrario rispetto all'altro, ed inoltre i due riferimenti di corrente sono invertiti anche essi, nel primo caso da 1.3 a scendere fino a 0.1, nel secondo caso da 0.1 a salire fino a 1.3.\n",
    "\n",
    "\n",
    "Domanda: l'elettromagnete utilizzato sfrutta un nucleo ferromagnetico di materiale dolce o duro? ovvero il ciclo di isteresi possiamo considerarlo in una approssimazione lineare oppure no?\n",
    "\n",
    "Se non ci troviamo nel regime in cui il ferromagnete è dolce, allora l'elettromagnete potrebbe presentare magnetizzazione residua non nulla, che non è in linea con quanto atteso (comportamento lineare attorno allo zero)"
   ]
  },
  {
   "cell_type": "code",
   "execution_count": 16,
   "id": "3fdcc59b-d297-414e-af29-38f6e2e9a5fa",
   "metadata": {},
   "outputs": [],
   "source": [
    "import ROOT as root"
   ]
  },
  {
   "cell_type": "code",
   "execution_count": 31,
   "id": "b2c1a877-a6bd-4fe1-bec4-a3df5d0a5b9e",
   "metadata": {},
   "outputs": [],
   "source": [
    "GVH_g = root.TGraphErrors(len(GVH), np.array([-i/10 for i in range(12)]), GVH, GVH_std)\n",
    "\n",
    "GVH_g.Draw(\"AP\")\n",
    "# root.gROOT.GetListOfCanvases().Draw()"
   ]
  },
  {
   "cell_type": "code",
   "execution_count": 40,
   "id": "a8c9b346-2cc2-447b-8f32-67663e343153",
   "metadata": {},
   "outputs": [
    {
     "ename": "AttributeError",
     "evalue": "module 'matplotlib.cbook' has no attribute '_make_class_factory'",
     "output_type": "error",
     "traceback": [
      "\u001b[0;31m---------------------------------------------------------------------------\u001b[0m",
      "\u001b[0;31mAttributeError\u001b[0m                            Traceback (most recent call last)",
      "\u001b[0;32m<ipython-input-40-066d10090b50>\u001b[0m in \u001b[0;36m<module>\u001b[0;34m\u001b[0m\n\u001b[1;32m      1\u001b[0m \u001b[0;32mimport\u001b[0m \u001b[0mmatplotlib\u001b[0m\u001b[0;34m.\u001b[0m\u001b[0mpyplot\u001b[0m \u001b[0;32mas\u001b[0m \u001b[0mplt\u001b[0m\u001b[0;34m\u001b[0m\u001b[0;34m\u001b[0m\u001b[0m\n\u001b[1;32m      2\u001b[0m \u001b[0;32mimport\u001b[0m \u001b[0mmatplotlib\u001b[0m \u001b[0;32mas\u001b[0m \u001b[0mmpl\u001b[0m\u001b[0;34m\u001b[0m\u001b[0;34m\u001b[0m\u001b[0m\n\u001b[0;32m----> 3\u001b[0;31m \u001b[0;32mimport\u001b[0m \u001b[0mmplhep\u001b[0m \u001b[0;32mas\u001b[0m \u001b[0mhep\u001b[0m\u001b[0;34m\u001b[0m\u001b[0;34m\u001b[0m\u001b[0m\n\u001b[0m",
      "\u001b[0;32m/usr/local/Cellar/root/6.24.02/lib/root/ROOT/_facade.py\u001b[0m in \u001b[0;36m_importhook\u001b[0;34m(name, *args, **kwds)\u001b[0m\n\u001b[1;32m    148\u001b[0m                 \u001b[0;32mexcept\u001b[0m \u001b[0mException\u001b[0m\u001b[0;34m:\u001b[0m\u001b[0;34m\u001b[0m\u001b[0;34m\u001b[0m\u001b[0m\n\u001b[1;32m    149\u001b[0m                     \u001b[0;32mpass\u001b[0m\u001b[0;34m\u001b[0m\u001b[0;34m\u001b[0m\u001b[0m\n\u001b[0;32m--> 150\u001b[0;31m             \u001b[0;32mreturn\u001b[0m \u001b[0m_orig_ihook\u001b[0m\u001b[0;34m(\u001b[0m\u001b[0mname\u001b[0m\u001b[0;34m,\u001b[0m \u001b[0;34m*\u001b[0m\u001b[0margs\u001b[0m\u001b[0;34m,\u001b[0m \u001b[0;34m**\u001b[0m\u001b[0mkwds\u001b[0m\u001b[0;34m)\u001b[0m\u001b[0;34m\u001b[0m\u001b[0;34m\u001b[0m\u001b[0m\n\u001b[0m\u001b[1;32m    151\u001b[0m         \u001b[0m__builtin__\u001b[0m\u001b[0;34m.\u001b[0m\u001b[0m__import__\u001b[0m \u001b[0;34m=\u001b[0m \u001b[0m_importhook\u001b[0m\u001b[0;34m\u001b[0m\u001b[0;34m\u001b[0m\u001b[0m\n\u001b[1;32m    152\u001b[0m \u001b[0;34m\u001b[0m\u001b[0m\n",
      "\u001b[0;32m/usr/local/lib/python3.9/site-packages/mplhep/__init__.py\u001b[0m in \u001b[0;36m<module>\u001b[0;34m\u001b[0m\n\u001b[1;32m      8\u001b[0m \u001b[0;31m# Get styles directly, also available within experiment helpers.\u001b[0m\u001b[0;34m\u001b[0m\u001b[0;34m\u001b[0m\u001b[0m\n\u001b[1;32m      9\u001b[0m \u001b[0;31m# Get helper functions\u001b[0m\u001b[0;34m\u001b[0m\u001b[0;34m\u001b[0m\u001b[0m\n\u001b[0;32m---> 10\u001b[0;31m \u001b[0;32mfrom\u001b[0m \u001b[0;34m.\u001b[0m \u001b[0;32mimport\u001b[0m \u001b[0malice\u001b[0m\u001b[0;34m,\u001b[0m \u001b[0matlas\u001b[0m\u001b[0;34m,\u001b[0m \u001b[0mcms\u001b[0m\u001b[0;34m,\u001b[0m \u001b[0mlabel\u001b[0m\u001b[0;34m,\u001b[0m \u001b[0mlhcb\u001b[0m\u001b[0;34m,\u001b[0m \u001b[0mplot\u001b[0m\u001b[0;34m\u001b[0m\u001b[0;34m\u001b[0m\u001b[0m\n\u001b[0m\u001b[1;32m     11\u001b[0m \u001b[0;32mfrom\u001b[0m \u001b[0;34m.\u001b[0m \u001b[0;32mimport\u001b[0m \u001b[0mstyles\u001b[0m \u001b[0;32mas\u001b[0m \u001b[0mstyle\u001b[0m\u001b[0;34m\u001b[0m\u001b[0;34m\u001b[0m\u001b[0m\n\u001b[1;32m     12\u001b[0m \u001b[0;32mfrom\u001b[0m \u001b[0;34m.\u001b[0m\u001b[0m_tools\u001b[0m \u001b[0;32mimport\u001b[0m \u001b[0mConfig\u001b[0m\u001b[0;34m\u001b[0m\u001b[0;34m\u001b[0m\u001b[0m\n",
      "\u001b[0;32m/usr/local/Cellar/root/6.24.02/lib/root/ROOT/_facade.py\u001b[0m in \u001b[0;36m_importhook\u001b[0;34m(name, *args, **kwds)\u001b[0m\n\u001b[1;32m    148\u001b[0m                 \u001b[0;32mexcept\u001b[0m \u001b[0mException\u001b[0m\u001b[0;34m:\u001b[0m\u001b[0;34m\u001b[0m\u001b[0;34m\u001b[0m\u001b[0m\n\u001b[1;32m    149\u001b[0m                     \u001b[0;32mpass\u001b[0m\u001b[0;34m\u001b[0m\u001b[0;34m\u001b[0m\u001b[0m\n\u001b[0;32m--> 150\u001b[0;31m             \u001b[0;32mreturn\u001b[0m \u001b[0m_orig_ihook\u001b[0m\u001b[0;34m(\u001b[0m\u001b[0mname\u001b[0m\u001b[0;34m,\u001b[0m \u001b[0;34m*\u001b[0m\u001b[0margs\u001b[0m\u001b[0;34m,\u001b[0m \u001b[0;34m**\u001b[0m\u001b[0mkwds\u001b[0m\u001b[0;34m)\u001b[0m\u001b[0;34m\u001b[0m\u001b[0;34m\u001b[0m\u001b[0m\n\u001b[0m\u001b[1;32m    151\u001b[0m         \u001b[0m__builtin__\u001b[0m\u001b[0;34m.\u001b[0m\u001b[0m__import__\u001b[0m \u001b[0;34m=\u001b[0m \u001b[0m_importhook\u001b[0m\u001b[0;34m\u001b[0m\u001b[0;34m\u001b[0m\u001b[0m\n\u001b[1;32m    152\u001b[0m \u001b[0;34m\u001b[0m\u001b[0m\n",
      "\u001b[0;32m/usr/local/lib/python3.9/site-packages/mplhep/plot.py\u001b[0m in \u001b[0;36m<module>\u001b[0;34m\u001b[0m\n\u001b[1;32m     10\u001b[0m \u001b[0;32mfrom\u001b[0m \u001b[0mmatplotlib\u001b[0m\u001b[0;34m.\u001b[0m\u001b[0moffsetbox\u001b[0m \u001b[0;32mimport\u001b[0m \u001b[0mAnchoredText\u001b[0m\u001b[0;34m\u001b[0m\u001b[0;34m\u001b[0m\u001b[0m\n\u001b[1;32m     11\u001b[0m \u001b[0;32mfrom\u001b[0m \u001b[0mmatplotlib\u001b[0m\u001b[0;34m.\u001b[0m\u001b[0mtransforms\u001b[0m \u001b[0;32mimport\u001b[0m \u001b[0mBbox\u001b[0m\u001b[0;34m\u001b[0m\u001b[0;34m\u001b[0m\u001b[0m\n\u001b[0;32m---> 12\u001b[0;31m \u001b[0;32mfrom\u001b[0m \u001b[0mmpl_toolkits\u001b[0m\u001b[0;34m.\u001b[0m\u001b[0maxes_grid1\u001b[0m \u001b[0;32mimport\u001b[0m \u001b[0maxes_size\u001b[0m\u001b[0;34m,\u001b[0m \u001b[0mmake_axes_locatable\u001b[0m\u001b[0;34m\u001b[0m\u001b[0;34m\u001b[0m\u001b[0m\n\u001b[0m\u001b[1;32m     13\u001b[0m \u001b[0;34m\u001b[0m\u001b[0m\n\u001b[1;32m     14\u001b[0m from .utils import (\n",
      "\u001b[0;32m/usr/local/Cellar/root/6.24.02/lib/root/ROOT/_facade.py\u001b[0m in \u001b[0;36m_importhook\u001b[0;34m(name, *args, **kwds)\u001b[0m\n\u001b[1;32m    148\u001b[0m                 \u001b[0;32mexcept\u001b[0m \u001b[0mException\u001b[0m\u001b[0;34m:\u001b[0m\u001b[0;34m\u001b[0m\u001b[0;34m\u001b[0m\u001b[0m\n\u001b[1;32m    149\u001b[0m                     \u001b[0;32mpass\u001b[0m\u001b[0;34m\u001b[0m\u001b[0;34m\u001b[0m\u001b[0m\n\u001b[0;32m--> 150\u001b[0;31m             \u001b[0;32mreturn\u001b[0m \u001b[0m_orig_ihook\u001b[0m\u001b[0;34m(\u001b[0m\u001b[0mname\u001b[0m\u001b[0;34m,\u001b[0m \u001b[0;34m*\u001b[0m\u001b[0margs\u001b[0m\u001b[0;34m,\u001b[0m \u001b[0;34m**\u001b[0m\u001b[0mkwds\u001b[0m\u001b[0;34m)\u001b[0m\u001b[0;34m\u001b[0m\u001b[0;34m\u001b[0m\u001b[0m\n\u001b[0m\u001b[1;32m    151\u001b[0m         \u001b[0m__builtin__\u001b[0m\u001b[0;34m.\u001b[0m\u001b[0m__import__\u001b[0m \u001b[0;34m=\u001b[0m \u001b[0m_importhook\u001b[0m\u001b[0;34m\u001b[0m\u001b[0;34m\u001b[0m\u001b[0m\n\u001b[1;32m    152\u001b[0m \u001b[0;34m\u001b[0m\u001b[0m\n",
      "\u001b[0;32m/usr/local/lib/python3.9/site-packages/mpl_toolkits/axes_grid1/__init__.py\u001b[0m in \u001b[0;36m<module>\u001b[0;34m\u001b[0m\n\u001b[1;32m      1\u001b[0m \u001b[0;32mfrom\u001b[0m \u001b[0;34m.\u001b[0m \u001b[0;32mimport\u001b[0m \u001b[0maxes_size\u001b[0m \u001b[0;32mas\u001b[0m \u001b[0mSize\u001b[0m\u001b[0;34m\u001b[0m\u001b[0;34m\u001b[0m\u001b[0m\n\u001b[1;32m      2\u001b[0m \u001b[0;32mfrom\u001b[0m \u001b[0;34m.\u001b[0m\u001b[0maxes_divider\u001b[0m \u001b[0;32mimport\u001b[0m \u001b[0mDivider\u001b[0m\u001b[0;34m,\u001b[0m \u001b[0mSubplotDivider\u001b[0m\u001b[0;34m,\u001b[0m \u001b[0mmake_axes_locatable\u001b[0m\u001b[0;34m\u001b[0m\u001b[0;34m\u001b[0m\u001b[0m\n\u001b[0;32m----> 3\u001b[0;31m \u001b[0;32mfrom\u001b[0m \u001b[0;34m.\u001b[0m\u001b[0maxes_grid\u001b[0m \u001b[0;32mimport\u001b[0m \u001b[0mGrid\u001b[0m\u001b[0;34m,\u001b[0m \u001b[0mImageGrid\u001b[0m\u001b[0;34m,\u001b[0m \u001b[0mAxesGrid\u001b[0m\u001b[0;34m\u001b[0m\u001b[0;34m\u001b[0m\u001b[0m\n\u001b[0m\u001b[1;32m      4\u001b[0m \u001b[0;34m\u001b[0m\u001b[0m\n\u001b[1;32m      5\u001b[0m \u001b[0;32mfrom\u001b[0m \u001b[0;34m.\u001b[0m\u001b[0mparasite_axes\u001b[0m \u001b[0;32mimport\u001b[0m \u001b[0mhost_subplot\u001b[0m\u001b[0;34m,\u001b[0m \u001b[0mhost_axes\u001b[0m\u001b[0;34m\u001b[0m\u001b[0;34m\u001b[0m\u001b[0m\n",
      "\u001b[0;32m/usr/local/Cellar/root/6.24.02/lib/root/ROOT/_facade.py\u001b[0m in \u001b[0;36m_importhook\u001b[0;34m(name, *args, **kwds)\u001b[0m\n\u001b[1;32m    148\u001b[0m                 \u001b[0;32mexcept\u001b[0m \u001b[0mException\u001b[0m\u001b[0;34m:\u001b[0m\u001b[0;34m\u001b[0m\u001b[0;34m\u001b[0m\u001b[0m\n\u001b[1;32m    149\u001b[0m                     \u001b[0;32mpass\u001b[0m\u001b[0;34m\u001b[0m\u001b[0;34m\u001b[0m\u001b[0m\n\u001b[0;32m--> 150\u001b[0;31m             \u001b[0;32mreturn\u001b[0m \u001b[0m_orig_ihook\u001b[0m\u001b[0;34m(\u001b[0m\u001b[0mname\u001b[0m\u001b[0;34m,\u001b[0m \u001b[0;34m*\u001b[0m\u001b[0margs\u001b[0m\u001b[0;34m,\u001b[0m \u001b[0;34m**\u001b[0m\u001b[0mkwds\u001b[0m\u001b[0;34m)\u001b[0m\u001b[0;34m\u001b[0m\u001b[0;34m\u001b[0m\u001b[0m\n\u001b[0m\u001b[1;32m    151\u001b[0m         \u001b[0m__builtin__\u001b[0m\u001b[0;34m.\u001b[0m\u001b[0m__import__\u001b[0m \u001b[0;34m=\u001b[0m \u001b[0m_importhook\u001b[0m\u001b[0;34m\u001b[0m\u001b[0;34m\u001b[0m\u001b[0m\n\u001b[1;32m    152\u001b[0m \u001b[0;34m\u001b[0m\u001b[0m\n",
      "\u001b[0;32m/usr/local/lib/python3.9/site-packages/mpl_toolkits/axes_grid1/axes_grid.py\u001b[0m in \u001b[0;36m<module>\u001b[0;34m\u001b[0m\n\u001b[1;32m     49\u001b[0m \u001b[0;34m\u001b[0m\u001b[0m\n\u001b[1;32m     50\u001b[0m \u001b[0;34m\u001b[0m\u001b[0m\n\u001b[0;32m---> 51\u001b[0;31m \u001b[0m_cbaraxes_class_factory\u001b[0m \u001b[0;34m=\u001b[0m \u001b[0mcbook\u001b[0m\u001b[0;34m.\u001b[0m\u001b[0m_make_class_factory\u001b[0m\u001b[0;34m(\u001b[0m\u001b[0mCbarAxesBase\u001b[0m\u001b[0;34m,\u001b[0m \u001b[0;34m\"Cbar{}\"\u001b[0m\u001b[0;34m)\u001b[0m\u001b[0;34m\u001b[0m\u001b[0;34m\u001b[0m\u001b[0m\n\u001b[0m\u001b[1;32m     52\u001b[0m \u001b[0;34m\u001b[0m\u001b[0m\n\u001b[1;32m     53\u001b[0m \u001b[0;34m\u001b[0m\u001b[0m\n",
      "\u001b[0;31mAttributeError\u001b[0m: module 'matplotlib.cbook' has no attribute '_make_class_factory'"
     ]
    }
   ],
   "source": [
    "import matplotlib.pyplot as plt\n",
    "import matplotlib as mpl\n",
    "import mplhep as hep"
   ]
  },
  {
   "cell_type": "code",
   "execution_count": null,
   "id": "af75e4ed-54ce-4bdf-b3c0-90c248f0e725",
   "metadata": {},
   "outputs": [],
   "source": []
  }
 ],
 "metadata": {
  "interpreter": {
   "hash": "aee8b7b246df8f9039afb4144a1f6fd8d2ca17a180786b69acc140d282b71a49"
  },
  "kernelspec": {
   "display_name": "Python 3",
   "language": "python",
   "name": "python3"
  },
  "language_info": {
   "codemirror_mode": {
    "name": "ipython",
    "version": 3
   },
   "file_extension": ".py",
   "mimetype": "text/x-python",
   "name": "python",
   "nbconvert_exporter": "python",
   "pygments_lexer": "ipython3",
   "version": "3.9.12"
  },
  "toc-autonumbering": false
 },
 "nbformat": 4,
 "nbformat_minor": 5
}
