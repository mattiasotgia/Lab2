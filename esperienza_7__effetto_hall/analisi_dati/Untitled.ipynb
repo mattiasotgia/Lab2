{
 "cells": [
  {
   "cell_type": "code",
   "execution_count": 18,
   "id": "02674484-8987-4747-84f4-a2203326c590",
   "metadata": {},
   "outputs": [
    {
     "data": {
      "text/plain": [
       "0"
      ]
     },
     "execution_count": 18,
     "metadata": {},
     "output_type": "execute_result"
    }
   ],
   "source": [
    "import ROOT as root\n",
    "\n",
    "    \n",
    "root.gROOT.ProcessLine('''\n",
    "        struct Event {\n",
    "            int ID;\n",
    "            int RUN;\n",
    "            double V_gen_lo[12][100];\n",
    "            double V_gen_hi[12][100];\n",
    "            double V_out_lo[12][100];\n",
    "            double V_out_hi[12][100];\n",
    "        };\n",
    "    ''')"
   ]
  },
  {
   "cell_type": "code",
   "execution_count": 19,
   "id": "07503423-46c0-4970-af81-3cce675e8b3f",
   "metadata": {},
   "outputs": [],
   "source": [
    "root.Event.ID = 1"
   ]
  },
  {
   "cell_type": "code",
   "execution_count": 20,
   "id": "ff29250c-1d01-4916-8c96-42e4b201a1c7",
   "metadata": {},
   "outputs": [
    {
     "data": {
      "text/plain": [
       "1"
      ]
     },
     "execution_count": 20,
     "metadata": {},
     "output_type": "execute_result"
    }
   ],
   "source": [
    "root.Event.ID"
   ]
  },
  {
   "cell_type": "code",
   "execution_count": 21,
   "id": "3928f4d5-d2f9-487e-9740-f89b9ce33ff8",
   "metadata": {},
   "outputs": [
    {
     "ename": "AttributeError",
     "evalue": "<class cppyy.gbl.Event at 0x7fa3baeadb30> has no attribute 'V_gen_lo'. Full details:\n  attribute access requires an instance\n  'Event::V_gen_lo' is not a known C++ class\n  'V_gen_lo' is not a known C++ template\n  'V_gen_lo' is not a known C++ enum",
     "output_type": "error",
     "traceback": [
      "\u001b[0;31m---------------------------------------------------------------------------\u001b[0m",
      "\u001b[0;31mAttributeError\u001b[0m                            Traceback (most recent call last)",
      "\u001b[0;32m<ipython-input-21-d212f5a084e6>\u001b[0m in \u001b[0;36m<module>\u001b[0;34m\u001b[0m\n\u001b[0;32m----> 1\u001b[0;31m \u001b[0mroot\u001b[0m\u001b[0;34m.\u001b[0m\u001b[0mEvent\u001b[0m\u001b[0;34m.\u001b[0m\u001b[0mV_gen_lo\u001b[0m\u001b[0;34m[\u001b[0m\u001b[0;36m1\u001b[0m\u001b[0;34m]\u001b[0m\u001b[0;34m[\u001b[0m\u001b[0;36m1\u001b[0m\u001b[0;34m]\u001b[0m\u001b[0;34m=\u001b[0m\u001b[0;36m0\u001b[0m\u001b[0;34m\u001b[0m\u001b[0;34m\u001b[0m\u001b[0m\n\u001b[0m",
      "\u001b[0;31mAttributeError\u001b[0m: <class cppyy.gbl.Event at 0x7fa3baeadb30> has no attribute 'V_gen_lo'. Full details:\n  attribute access requires an instance\n  'Event::V_gen_lo' is not a known C++ class\n  'V_gen_lo' is not a known C++ template\n  'V_gen_lo' is not a known C++ enum"
     ]
    }
   ],
   "source": [
    "root.Event.V_gen_lo[1][1]=0"
   ]
  },
  {
   "cell_type": "code",
   "execution_count": null,
   "id": "b1782b1a-9902-44c9-9281-6053c52d7adc",
   "metadata": {},
   "outputs": [],
   "source": [
    "%Y-%m-%d %X: "
   ]
  }
 ],
 "metadata": {
  "kernelspec": {
   "display_name": "Python 3",
   "language": "python",
   "name": "python3"
  },
  "language_info": {
   "codemirror_mode": {
    "name": "ipython",
    "version": 3
   },
   "file_extension": ".py",
   "mimetype": "text/x-python",
   "name": "python",
   "nbconvert_exporter": "python",
   "pygments_lexer": "ipython3",
   "version": "3.9.12"
  }
 },
 "nbformat": 4,
 "nbformat_minor": 5
}
