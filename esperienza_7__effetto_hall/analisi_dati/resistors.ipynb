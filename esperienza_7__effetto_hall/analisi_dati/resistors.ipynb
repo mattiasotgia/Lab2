{
 "cells": [
  {
   "cell_type": "code",
   "execution_count": 7,
   "id": "ca32e7a8-e885-4686-9f4f-7bd619ce188f",
   "metadata": {},
   "outputs": [],
   "source": [
    "import numpy as np\n",
    "\n",
    "def errR(R):\n",
    "    return 0.01*R+4*(0.001 if R > 1 else 0.01)/np.sqrt(3)"
   ]
  },
  {
   "cell_type": "code",
   "execution_count": 8,
   "id": "10641636-0d1c-4aad-81f0-71c68ff10064",
   "metadata": {},
   "outputs": [],
   "source": [
    "from uncertainties import ufloat, unumpy"
   ]
  },
  {
   "cell_type": "code",
   "execution_count": 9,
   "id": "abadb7bc-a264-4b85-a01a-d77c01d44cf2",
   "metadata": {},
   "outputs": [],
   "source": [
    "\n",
    "R1=ufloat(0.989,errR(0.989))\n",
    "R2=ufloat(0.986,errR(0.986))\n",
    "R3=ufloat(0.989,errR(0.989))\n",
    "R4=ufloat(0.985,errR(0.985))\n",
    "R5=ufloat(0.559,errR(0.559))"
   ]
  },
  {
   "cell_type": "code",
   "execution_count": 10,
   "id": "e033bc4a-da71-4dcd-b40e-1be88a324574",
   "metadata": {},
   "outputs": [],
   "source": [
    "Ra =ufloat(0.987,errR(0.987))\n",
    "Rb =ufloat(9.83,errR(9.83))\n",
    "Rbp=ufloat(9.81,errR(9.81))\n",
    "Rc =ufloat(0.985,errR(0.985))\n",
    "Rcp=ufloat(0.988,errR(0.988))\n",
    "Rd =ufloat(9.86,errR(9.86))\n",
    "Rdp=ufloat(9.84,errR(9.84))\n"
   ]
  },
  {
   "cell_type": "code",
   "execution_count": 14,
   "id": "dfbcc511-0414-4db1-827f-90bd9603129b",
   "metadata": {},
   "outputs": [],
   "source": [
    "Gg = R2/R1*1/R5"
   ]
  },
  {
   "cell_type": "code",
   "execution_count": 15,
   "id": "3a8ca15c-62a6-4581-85aa-4dad92a2e054",
   "metadata": {},
   "outputs": [
    {
     "data": {
      "text/plain": [
       "'1.783(124)'"
      ]
     },
     "execution_count": 15,
     "metadata": {},
     "output_type": "execute_result"
    }
   ],
   "source": [
    "Gg.format('.3uS')"
   ]
  },
  {
   "cell_type": "code",
   "execution_count": 24,
   "id": "639bd782-1f04-4b65-b592-0388ebd32103",
   "metadata": {},
   "outputs": [],
   "source": [
    "Gdiff = Rd/Rc*(1+2*Rb/Ra)"
   ]
  },
  {
   "cell_type": "code",
   "execution_count": 25,
   "id": "15d52c9c-f68b-4a97-9c04-e7c7ba6886db",
   "metadata": {},
   "outputs": [
    {
     "data": {
      "text/plain": [
       "'209.4(10.1)'"
      ]
     },
     "execution_count": 25,
     "metadata": {},
     "output_type": "execute_result"
    }
   ],
   "source": [
    "Gdiff.format('.3uS')"
   ]
  },
  {
   "cell_type": "code",
   "execution_count": null,
   "id": "a5ad0d86-7c33-49bd-a6ed-0dfc8ceed853",
   "metadata": {},
   "outputs": [],
   "source": []
  }
 ],
 "metadata": {
  "kernelspec": {
   "display_name": "Python 3",
   "language": "python",
   "name": "python3"
  },
  "language_info": {
   "codemirror_mode": {
    "name": "ipython",
    "version": 3
   },
   "file_extension": ".py",
   "mimetype": "text/x-python",
   "name": "python",
   "nbconvert_exporter": "python",
   "pygments_lexer": "ipython3",
   "version": "3.9.12"
  }
 },
 "nbformat": 4,
 "nbformat_minor": 5
}
