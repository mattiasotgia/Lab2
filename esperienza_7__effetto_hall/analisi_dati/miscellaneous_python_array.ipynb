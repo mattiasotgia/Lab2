{
 "cells": [
  {
   "cell_type": "code",
   "execution_count": 22,
   "id": "5c68384a-1316-4c42-9fe9-8a86f1daf9bf",
   "metadata": {},
   "outputs": [],
   "source": [
    "import numpy as np\n",
    "import matplotlib as mpl\n",
    "import matplotlib.pyplot as plt"
   ]
  },
  {
   "cell_type": "code",
   "execution_count": 23,
   "id": "52210af4-3642-46b1-95ee-e11006006a88",
   "metadata": {},
   "outputs": [],
   "source": [
    "import ROOT as root"
   ]
  },
  {
   "cell_type": "code",
   "execution_count": 24,
   "id": "0f094083-fcd8-496d-bccd-d202aba0dbe6",
   "metadata": {},
   "outputs": [],
   "source": [
    "I_POS = np.array([i for i in np.arange(0.1, 1.4, 0.1)])"
   ]
  },
  {
   "cell_type": "code",
   "execution_count": 25,
   "id": "300ceac4-7927-4127-8ed1-7db0850e1c16",
   "metadata": {},
   "outputs": [
    {
     "data": {
      "text/plain": [
       "array([0.1, 0.2, 0.3, 0.4, 0.5, 0.6, 0.7, 0.8, 0.9, 1. , 1.1, 1.2, 1.3])"
      ]
     },
     "execution_count": 25,
     "metadata": {},
     "output_type": "execute_result"
    }
   ],
   "source": [
    "I_POS\n"
   ]
  },
  {
   "cell_type": "code",
   "execution_count": 26,
   "id": "f7a49246-5315-4649-b8bc-79c052fd5c35",
   "metadata": {},
   "outputs": [],
   "source": [
    "I_NEG = I_POS[::-1]"
   ]
  },
  {
   "cell_type": "code",
   "execution_count": 27,
   "id": "309ff773-d4c3-4419-93bc-6d06cf137df6",
   "metadata": {},
   "outputs": [
    {
     "data": {
      "text/plain": [
       "array([1.3, 1.2, 1.1, 1. , 0.9, 0.8, 0.7, 0.6, 0.5, 0.4, 0.3, 0.2, 0.1])"
      ]
     },
     "execution_count": 27,
     "metadata": {},
     "output_type": "execute_result"
    }
   ],
   "source": [
    "I_NEG\n"
   ]
  },
  {
   "cell_type": "code",
   "execution_count": 28,
   "id": "d237893f-a35b-4c67-a80a-897a55919aa3",
   "metadata": {},
   "outputs": [],
   "source": [
    "import uproot\n",
    "import uproot3"
   ]
  },
  {
   "cell_type": "code",
   "execution_count": 46,
   "id": "0d2b8552-0567-4720-8512-998538b38164",
   "metadata": {},
   "outputs": [],
   "source": [
    "_data0 = uproot.open('../dati/dataRUN_20220524_09.57.00.902015_HALL.root')"
   ]
  },
  {
   "cell_type": "code",
   "execution_count": 47,
   "id": "e3aa5829-f169-4613-bf88-839b4a47e4bc",
   "metadata": {},
   "outputs": [
    {
     "data": {
      "text/plain": [
       "['data_BPOS;2', 'data_BPOS;1', 'data_BNEG;2', 'data_BNEG;1']"
      ]
     },
     "execution_count": 47,
     "metadata": {},
     "output_type": "execute_result"
    }
   ],
   "source": [
    "_data0.keys()"
   ]
  },
  {
   "cell_type": "code",
   "execution_count": 48,
   "id": "aa32eb23-f08c-4281-90b8-276acdd60195",
   "metadata": {},
   "outputs": [],
   "source": [
    "BPOS = _data0['data_BPOS']\n",
    "BNEG = _data0['data_BNEG']"
   ]
  },
  {
   "cell_type": "code",
   "execution_count": 49,
   "id": "e2e3db02-8605-4904-ba24-c2b2111b5f1f",
   "metadata": {},
   "outputs": [
    {
     "data": {
      "text/plain": [
       "['ID', 'RUN', 'BUFSIZE', 'V_gen_lo', 'V_gen_hi', 'V_out_lo', 'V_out_hi']"
      ]
     },
     "execution_count": 49,
     "metadata": {},
     "output_type": "execute_result"
    }
   ],
   "source": [
    "BPOS.keys()"
   ]
  },
  {
   "cell_type": "code",
   "execution_count": 50,
   "id": "f5d97928-135e-499d-b0e7-5b9111170f1b",
   "metadata": {},
   "outputs": [
    {
     "data": {
      "text/plain": [
       "0.0025601029582906316"
      ]
     },
     "execution_count": 50,
     "metadata": {},
     "output_type": "execute_result"
    }
   ],
   "source": [
    "V_out_std = np.array([BNEG['V_gen_hi'].array(library='np'), \n",
    "                      BPOS['V_gen_hi'].array(library='np')]).std()\n",
    "V_out_std"
   ]
  },
  {
   "cell_type": "code",
   "execution_count": 51,
   "id": "033e3537-7ffc-4f88-b358-db583345a60a",
   "metadata": {},
   "outputs": [
    {
     "data": {
      "text/plain": [
       "4.998965462048848"
      ]
     },
     "execution_count": 51,
     "metadata": {},
     "output_type": "execute_result"
    }
   ],
   "source": [
    "V_out = np.array([BNEG['V_gen_hi'].array(library='np'), \n",
    "                  BPOS['V_gen_hi'].array(library='np')]).mean()\n",
    "\n",
    "V_out\n"
   ]
  },
  {
   "cell_type": "code",
   "execution_count": 52,
   "id": "56557184-db6b-4213-8097-60d7db94dddc",
   "metadata": {},
   "outputs": [
    {
     "name": "stdout",
     "output_type": "stream",
     "text": [
      "\u001b[34;1mApplying ATLAS style settings\u001b[0m\n"
     ]
    },
    {
     "name": "stderr",
     "output_type": "stream",
     "text": [
      "Warning in <TCanvas::Constructor>: Deleting canvas with same name: __figure__\n"
     ]
    }
   ],
   "source": [
    "import setup_hall.linear_regression as lg\n",
    "\n",
    "i10mA = lg.linear_regression('generatore.txt', system='current')"
   ]
  },
  {
   "cell_type": "code",
   "execution_count": 53,
   "id": "fef7601b-66a6-4fb2-ad43-5ee9c05f8968",
   "metadata": {},
   "outputs": [
    {
     "name": "stdout",
     "output_type": "stream",
     "text": [
      "model results chi2/ndf (prob): 0.2796881563157294/9 (0.9999975624782381)\n",
      "correlation parameter: 1.7242(300) [arb. u.]\n",
      "offset: 0.0673(889) [coherent units with y-axis value]\n",
      " FCN=0.279688 FROM MIGRAD    STATUS=CONVERGED      50 CALLS          51 TOTAL\n",
      "                     EDM=7.59718e-13    STRATEGY= 1      ERROR MATRIX ACCURATE \n",
      "  EXT PARAMETER                                   STEP         FIRST   \n",
      "  NO.   NAME      VALUE            ERROR          SIZE      DERIVATIVE \n",
      "   1  p0           1.72418e+00   3.00379e-02   8.48703e-06  -6.62704e-05\n",
      "   2  p1           6.73130e-02   8.89182e-02   2.51236e-05  -1.14248e-05\n"
     ]
    }
   ],
   "source": [
    "i10mA.set_model_parameters(1000/500, 0)\n",
    "p0,p1 = i10mA.fit_model()"
   ]
  },
  {
   "cell_type": "code",
   "execution_count": 54,
   "id": "7ef4ed82-5c7f-488b-8d1f-577174208f2d",
   "metadata": {},
   "outputs": [
    {
     "data": {
      "text/plain": [
       "(1.7241819129014446, 0.030037918506097314)"
      ]
     },
     "execution_count": 54,
     "metadata": {},
     "output_type": "execute_result"
    }
   ],
   "source": [
    "p0"
   ]
  },
  {
   "cell_type": "code",
   "execution_count": 55,
   "id": "031a9ff0-0d20-4145-af63-9be9128e3543",
   "metadata": {},
   "outputs": [
    {
     "data": {
      "text/plain": [
       "0.008619125832883635"
      ]
     },
     "execution_count": 55,
     "metadata": {},
     "output_type": "execute_result"
    }
   ],
   "source": [
    "V_out*p0[0]/1000"
   ]
  },
  {
   "cell_type": "code",
   "execution_count": 56,
   "id": "82c686bf-3cdf-4e6a-9cec-112be4aaca19",
   "metadata": {},
   "outputs": [],
   "source": [
    "from uncertainties import ufloat\n",
    "\n",
    "V_out_u = ufloat(V_out, V_out_std)\n",
    "gain_gen = ufloat(p0[0], p0[1])/1000\n",
    "current = V_out*gain_gen"
   ]
  },
  {
   "cell_type": "code",
   "execution_count": 57,
   "id": "cb773d2d-8608-4e6e-9a61-e5070b3e1750",
   "metadata": {},
   "outputs": [
    {
     "data": {
      "text/plain": [
       "0.017421548318848592"
      ]
     },
     "execution_count": 57,
     "metadata": {},
     "output_type": "execute_result"
    }
   ],
   "source": [
    "current.std_dev/current.nominal_value"
   ]
  },
  {
   "cell_type": "code",
   "execution_count": 58,
   "id": "cc68f29f-85d4-4216-8915-f6767a9af721",
   "metadata": {},
   "outputs": [
    {
     "data": {
      "text/plain": [
       "'8.619(150)'"
      ]
     },
     "execution_count": 58,
     "metadata": {},
     "output_type": "execute_result"
    }
   ],
   "source": [
    "(current*1000).format('.3uS')"
   ]
  },
  {
   "cell_type": "code",
   "execution_count": 59,
   "id": "515511da-dd6d-45c5-ab35-d03871df8c92",
   "metadata": {},
   "outputs": [],
   "source": [
    "import awkward as ak \n",
    "import pandas as pd\n",
    "\n",
    "ak_BPOS = _data0['data_BPOS'].arrays()\n",
    "ak_BNEG = _data0['data_BNEG'].arrays()\n"
   ]
  },
  {
   "cell_type": "code",
   "execution_count": 60,
   "id": "1b1eb37d-240a-4889-9634-969e845a1fd9",
   "metadata": {},
   "outputs": [
    {
     "name": "stdout",
     "output_type": "stream",
     "text": [
      "                ID  RUN  BUFSIZE  V_gen_lo  V_gen_hi  V_out_lo  V_out_hi\n",
      "entry subentry                                                          \n",
      "0     0          1    1      100       0.0       5.0       0.0  0.366569\n",
      "      1          1    1      100       0.0       5.0       0.0  0.376344\n",
      "      2          1    1      100       0.0       5.0       0.0  0.366569\n",
      "      3          1    1      100       0.0       5.0       0.0  0.376344\n",
      "      4          1    1      100       0.0       5.0       0.0  0.371457\n",
      "...             ..  ...      ...       ...       ...       ...       ...\n",
      "11    95         1   12      100       0.0       5.0       0.0  0.322581\n",
      "      96         1   12      100       0.0       5.0       0.0  0.327468\n",
      "      97         1   12      100       0.0       5.0       0.0  0.322581\n",
      "      98         1   12      100       0.0       5.0       0.0  0.312805\n",
      "      99         1   12      100       0.0       5.0       0.0  0.322581\n",
      "\n",
      "[1200 rows x 7 columns]\n"
     ]
    }
   ],
   "source": [
    "print(ak.to_pandas(ak_BPOS))"
   ]
  },
  {
   "cell_type": "code",
   "execution_count": null,
   "id": "adc2357e-e694-461d-9339-b30effdab8f7",
   "metadata": {},
   "outputs": [],
   "source": []
  }
 ],
 "metadata": {
  "kernelspec": {
   "display_name": "Python 3",
   "language": "python",
   "name": "python3"
  },
  "language_info": {
   "codemirror_mode": {
    "name": "ipython",
    "version": 3
   },
   "file_extension": ".py",
   "mimetype": "text/x-python",
   "name": "python",
   "nbconvert_exporter": "python",
   "pygments_lexer": "ipython3",
   "version": "3.9.12"
  }
 },
 "nbformat": 4,
 "nbformat_minor": 5
}
