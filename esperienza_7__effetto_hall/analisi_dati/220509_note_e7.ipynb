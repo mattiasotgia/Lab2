{
 "cells": [
  {
   "cell_type": "markdown",
   "id": "dc31de8f-3dd9-4ee0-9bb7-2f14c30b1fa7",
   "metadata": {},
   "source": [
    "# Appunti lezione 9 maggio 2022"
   ]
  },
  {
   "cell_type": "markdown",
   "id": "18b88e40-1611-4342-a5fa-42e60d0e3ad7",
   "metadata": {},
   "source": [
    "Note sul circuito: mettiamo il V+ a +5V di arduino (o comunque su un digital_out con la tensione massima che possiamo avere. Il capo V- invece possiamo porlo a GND. "
   ]
  },
  {
   "cell_type": "markdown",
   "id": "3494f0c8-f1b2-455f-b35a-35a46a0c2195",
   "metadata": {},
   "source": [
    "## Generatore di corrente da banco per alimentare il campo magnetico \n",
    "\n",
    "Utilizziamo il generatore PL303QMD-P, che può arrivare fino a 3A, con una tensione in uscita di $V_\\text{max} = 30$V. Possiamo mettere in comunicazione seriale con arduino tramite protocollo RS-232 il generatore e quindi avere che possiamo effettivamente azionare come vogliamo il sistema. "
   ]
  },
  {
   "cell_type": "markdown",
   "id": "a975c8ad-eada-4640-9664-948695627407",
   "metadata": {},
   "source": []
  }
 ],
 "metadata": {
  "kernelspec": {
   "display_name": "Python 3",
   "language": "python",
   "name": "python3"
  },
  "language_info": {
   "codemirror_mode": {
    "name": "ipython",
    "version": 3
   },
   "file_extension": ".py",
   "mimetype": "text/x-python",
   "name": "python",
   "nbconvert_exporter": "python",
   "pygments_lexer": "ipython3",
   "version": "3.9.12"
  }
 },
 "nbformat": 4,
 "nbformat_minor": 5
}
