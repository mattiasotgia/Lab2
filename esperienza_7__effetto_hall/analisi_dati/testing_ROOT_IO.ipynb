{
 "cells": [
  {
   "cell_type": "code",
   "execution_count": 1,
   "id": "02674484-8987-4747-84f4-a2203326c590",
   "metadata": {},
   "outputs": [
    {
     "name": "stdout",
     "output_type": "stream",
     "text": [
      "Welcome to JupyROOT 6.24/02\n"
     ]
    },
    {
     "data": {
      "text/plain": [
       "0"
      ]
     },
     "execution_count": 1,
     "metadata": {},
     "output_type": "execute_result"
    }
   ],
   "source": [
    "import ROOT as root\n",
    "\n",
    "    \n",
    "root.gROOT.ProcessLine('''\n",
    "        struct Event {\n",
    "            int ID;\n",
    "            int RUN;\n",
    "            Double_t V_gen_lo[100];\n",
    "            Double_t V_gen_hi[100];\n",
    "            Double_t V_out_lo[100];\n",
    "            Double_t V_out_hi[100];\n",
    "        };\n",
    "    ''')"
   ]
  },
  {
   "cell_type": "code",
   "execution_count": 2,
   "id": "07503423-46c0-4970-af81-3cce675e8b3f",
   "metadata": {},
   "outputs": [],
   "source": [
    "Event = root.Event()"
   ]
  },
  {
   "cell_type": "code",
   "execution_count": 3,
   "id": "ff29250c-1d01-4916-8c96-42e4b201a1c7",
   "metadata": {},
   "outputs": [
    {
     "ename": "RuntimeError",
     "evalue": "property type mismatch or assignment not allowed",
     "output_type": "error",
     "traceback": [
      "\u001b[0;31m---------------------------------------------------------------------------\u001b[0m",
      "\u001b[0;31mRuntimeError\u001b[0m                              Traceback (most recent call last)",
      "\u001b[0;32m<ipython-input-3-e8cc8bda7587>\u001b[0m in \u001b[0;36m<module>\u001b[0;34m\u001b[0m\n\u001b[1;32m      1\u001b[0m \u001b[0;32mimport\u001b[0m \u001b[0mnumpy\u001b[0m \u001b[0;32mas\u001b[0m \u001b[0mnp\u001b[0m\u001b[0;34m\u001b[0m\u001b[0;34m\u001b[0m\u001b[0m\n\u001b[0;32m----> 2\u001b[0;31m \u001b[0mEvent\u001b[0m\u001b[0;34m.\u001b[0m\u001b[0mV_gen_hi\u001b[0m \u001b[0;34m=\u001b[0m \u001b[0mnp\u001b[0m\u001b[0;34m.\u001b[0m\u001b[0marray\u001b[0m\u001b[0;34m(\u001b[0m\u001b[0;34m[\u001b[0m\u001b[0;36m0\u001b[0m \u001b[0;32mfor\u001b[0m \u001b[0m_\u001b[0m \u001b[0;32min\u001b[0m \u001b[0mrange\u001b[0m\u001b[0;34m(\u001b[0m\u001b[0;36m0\u001b[0m\u001b[0;34m)\u001b[0m\u001b[0;34m]\u001b[0m\u001b[0;34m)\u001b[0m\u001b[0;34m\u001b[0m\u001b[0;34m\u001b[0m\u001b[0m\n\u001b[0m",
      "\u001b[0;31mRuntimeError\u001b[0m: property type mismatch or assignment not allowed"
     ]
    }
   ],
   "source": [
    "import numpy as np \n",
    "Event.V_gen_hi = np.array([0 for _ in range(0)])"
   ]
  },
  {
   "cell_type": "code",
   "execution_count": null,
   "id": "df3fdde0-8f64-445c-b3fb-38a36518e343",
   "metadata": {},
   "outputs": [],
   "source": []
  }
 ],
 "metadata": {
  "kernelspec": {
   "display_name": "Python 3",
   "language": "python",
   "name": "python3"
  },
  "language_info": {
   "codemirror_mode": {
    "name": "ipython",
    "version": 3
   },
   "file_extension": ".py",
   "mimetype": "text/x-python",
   "name": "python",
   "nbconvert_exporter": "python",
   "pygments_lexer": "ipython3",
   "version": "3.9.12"
  }
 },
 "nbformat": 4,
 "nbformat_minor": 5
}
